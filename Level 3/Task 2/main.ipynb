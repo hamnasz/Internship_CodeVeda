{
 "cells": [
  {
   "cell_type": "code",
   "execution_count": null,
   "id": "5367877d",
   "metadata": {},
   "outputs": [],
   "source": [
    "import io"
   ]
  },
  {
   "cell_type": "code",
   "execution_count": null,
   "id": "ec62ddb7",
   "metadata": {},
   "outputs": [],
   "source": [
    "import numpy as np"
   ]
  },
  {
   "cell_type": "code",
   "execution_count": null,
   "id": "88a26e75",
   "metadata": {},
   "outputs": [],
   "source": [
    "import pandas as pd"
   ]
  },
  {
   "cell_type": "code",
   "execution_count": null,
   "id": "94a64a53",
   "metadata": {},
   "outputs": [],
   "source": [
    "import seaborn as sns"
   ]
  },
  {
   "cell_type": "code",
   "execution_count": null,
   "id": "a711ca86",
   "metadata": {},
   "outputs": [],
   "source": [
    "from sklearn.svm import SVC"
   ]
  },
  {
   "cell_type": "code",
   "execution_count": null,
   "id": "681d01ed",
   "metadata": {},
   "outputs": [],
   "source": [
    "import matplotlib.pyplot as plt"
   ]
  },
  {
   "cell_type": "code",
   "execution_count": null,
   "id": "3769e0b9",
   "metadata": {},
   "outputs": [],
   "source": [
    "from sklearn.pipeline import Pipeline"
   ]
  },
  {
   "cell_type": "code",
   "execution_count": null,
   "id": "40b72c1b",
   "metadata": {},
   "outputs": [],
   "source": [
    "from sklearn.decomposition import PCA"
   ]
  },
  {
   "cell_type": "code",
   "execution_count": null,
   "id": "6a8825f0",
   "metadata": {},
   "outputs": [],
   "source": [
    "from sklearn.compose import ColumnTransformer"
   ]
  },
  {
   "cell_type": "code",
   "execution_count": null,
   "id": "9dc81d1f",
   "metadata": {},
   "outputs": [],
   "source": [
    "from sklearn.model_selection import train_test_split"
   ]
  },
  {
   "cell_type": "code",
   "execution_count": null,
   "id": "effab728",
   "metadata": {},
   "outputs": [],
   "source": [
    "from sklearn.preprocessing import StandardScaler, OneHotEncoder"
   ]
  },
  {
   "cell_type": "code",
   "execution_count": null,
   "id": "cd9b12f4",
   "metadata": {},
   "outputs": [],
   "source": [
    "from sklearn.metrics import accuracy_score, precision_score, recall_score, roc_auc_score, confusion_matrix"
   ]
  },
  {
   "cell_type": "code",
   "execution_count": null,
   "id": "566cc8ef",
   "metadata": {},
   "outputs": [],
   "source": [
    "source_reference = [\n",
    "    content_fetcher.SourceReference(id='data.csv', type='text/csv')\n",
    "]"
   ]
  },
  {
   "cell_type": "code",
   "execution_count": null,
   "id": "e8f2494c",
   "metadata": {},
   "outputs": [],
   "source": [
    "try:\n",
    "    csv_content = content_fetcher.fetch(query=\"data.csv content\", source_references=source_reference)\n",
    "    print(\"CSV content fetched successfully.\")\n",
    "\n",
    "    # Load the dataset from the fetched content using StringIO\n",
    "    df = pd.read_csv(io.StringIO(csv_content))\n",
    "\n",
    "except Exception as e:\n",
    "    print(f\"Error fetching or loading CSV: {e}\")\n",
    "    exit()\n"
   ]
  },
  {
   "cell_type": "code",
   "execution_count": null,
   "id": "3b8838a0",
   "metadata": {},
   "outputs": [],
   "source": [
    "print(\"Dataset Info:\")\n",
    "df.info()\n",
    "print(\"\\nFirst 5 rows of the dataset:\")\n",
    "print(df.head())\n",
    "print(\"\\nValue counts for 'churn' column:\")\n",
    "print(df['churn'].value_counts())"
   ]
  },
  {
   "cell_type": "code",
   "execution_count": null,
   "id": "7b5e3924",
   "metadata": {},
   "outputs": [],
   "source": [
    "X = df.drop('churn', axis=1)\n",
    "y = df['churn']"
   ]
  },
  {
   "cell_type": "code",
   "execution_count": null,
   "id": "59658930",
   "metadata": {},
   "outputs": [],
   "source": [
    "y = y.map({'True.': 1, 'False.': 0})"
   ]
  },
  {
   "cell_type": "code",
   "execution_count": null,
   "id": "55c288e5",
   "metadata": {},
   "outputs": [],
   "source": [
    "categorical_features = X.select_dtypes(include=['object']).columns\n",
    "numerical_features = X.select_dtypes(include=['int64', 'float64']).columns"
   ]
  },
  {
   "cell_type": "code",
   "execution_count": null,
   "id": "29c8ee95",
   "metadata": {},
   "outputs": [],
   "source": [
    "numerical_transformer = StandardScaler()"
   ]
  },
  {
   "cell_type": "code",
   "execution_count": null,
   "id": "1d1697b0",
   "metadata": {},
   "outputs": [],
   "source": [
    "categorical_transformer = OneHotEncoder(handle_unknown='ignore')"
   ]
  },
  {
   "cell_type": "code",
   "execution_count": null,
   "id": "29e31d07",
   "metadata": {},
   "outputs": [],
   "source": [
    "preprocessor = ColumnTransformer(\n",
    "    transformers=[\n",
    "        ('num', numerical_transformer, numerical_features),\n",
    "        ('cat', categorical_transformer, categorical_features)\n",
    "    ])"
   ]
  },
  {
   "cell_type": "code",
   "execution_count": null,
   "id": "c4f72a43",
   "metadata": {},
   "outputs": [],
   "source": [
    "pipeline_linear_svm = Pipeline(steps=[('preprocessor', preprocessor),\n",
    "                                      ('svm', SVC(kernel='linear', random_state=42, probability=True))])"
   ]
  },
  {
   "cell_type": "code",
   "execution_count": null,
   "id": "b4f3e745",
   "metadata": {},
   "outputs": [],
   "source": [
    "pipeline_rbf_svm = Pipeline(steps=[('preprocessor', preprocessor),\n",
    "                                   ('svm', SVC(kernel='rbf', random_state=42, probability=True))])"
   ]
  },
  {
   "cell_type": "code",
   "execution_count": null,
   "id": "8f6b61b2",
   "metadata": {},
   "outputs": [],
   "source": [
    "X_train, X_test, y_train, y_test = train_test_split(X, y, test_size=0.2, random_state=42, stratify=y)"
   ]
  },
  {
   "cell_type": "code",
   "execution_count": null,
   "id": "8b85f222",
   "metadata": {},
   "outputs": [],
   "source": [
    "print(\"\\nTraining Linear SVM...\")\n",
    "pipeline_linear_svm.fit(X_train, y_train)\n",
    "print(\"Linear SVM trained.\")"
   ]
  },
  {
   "cell_type": "code",
   "execution_count": null,
   "id": "2dfce4c2",
   "metadata": {},
   "outputs": [],
   "source": [
    "print(\"\\nTraining RBF SVM...\")\n",
    "pipeline_rbf_svm.fit(X_train, y_train)\n",
    "print(\"RBF SVM trained.\")"
   ]
  },
  {
   "cell_type": "code",
   "execution_count": null,
   "id": "d8fad38b",
   "metadata": {},
   "outputs": [],
   "source": [
    "def evaluate_model(model, X_test, y_test, model_name):\n",
    "    y_pred = model.predict(X_test)\n",
    "    y_prob = model.predict_proba(X_test)[:, 1]\n",
    "\n",
    "    accuracy = accuracy_score(y_test, y_pred)\n",
    "    precision = precision_score(y_test, y_pred)\n",
    "    recall = recall_score(y_test, y_pred)\n",
    "    auc = roc_auc_score(y_test, y_prob)\n",
    "    cm = confusion_matrix(y_test, y_pred)\n",
    "\n",
    "    print(f\"\\n--- {model_name} Performance ---\")\n",
    "    print(f\"Accuracy: {accuracy:.4f}\")\n",
    "    print(f\"Precision: {precision:.4f}\")\n",
    "    print(f\"Recall: {recall:.4f}\")\n",
    "    print(f\"AUC: {auc:.4f}\")\n",
    "    print(\"Confusion Matrix:\")\n",
    "    print(cm)\n",
    "\n",
    "    plt.figure(figsize=(6, 4))\n",
    "    sns.heatmap(cm, annot=True, fmt='d', cmap='Blues', cbar=False,\n",
    "                xticklabels=['Predicted No Churn (0)', 'Predicted Churn (1)'],\n",
    "                yticklabels=['Actual No Churn (0)', 'Actual Churn (1)'])\n",
    "    plt.title(f'{model_name} Confusion Matrix')\n",
    "    plt.xlabel('Predicted Label')\n",
    "    plt.ylabel('True Label')\n",
    "    plt.show()"
   ]
  },
  {
   "cell_type": "code",
   "execution_count": null,
   "id": "28837c60",
   "metadata": {},
   "outputs": [],
   "source": [
    "evaluate_model(pipeline_linear_svm, X_test, y_test, \"Linear SVM\")\n",
    "evaluate_model(pipeline_rbf_svm, X_test, y_test, \"RBF SVM\")"
   ]
  },
  {
   "cell_type": "code",
   "execution_count": null,
   "id": "916fe4e7",
   "metadata": {},
   "outputs": [],
   "source": [
    "print(\"\\nGenerating Decision Boundary Visualization (using PCA)...\")\n",
    "preprocessor_for_pca = ColumnTransformer(\n",
    "    transformers=[\n",
    "        ('num', StandardScaler(), numerical_features),\n",
    "        ('cat', OneHotEncoder(handle_unknown='ignore'), categorical_features)\n",
    "    ])\n",
    "X_processed_for_pca = preprocessor_for_pca.fit_transform(X)"
   ]
  },
  {
   "cell_type": "code",
   "execution_count": null,
   "id": "b4a339b9",
   "metadata": {},
   "outputs": [],
   "source": [
    "pca = PCA(n_components=2, random_state=42)\n",
    "X_pca = pca.fit_transform(X_processed_for_pca)"
   ]
  },
  {
   "cell_type": "code",
   "execution_count": null,
   "id": "51219dcf",
   "metadata": {},
   "outputs": [],
   "source": [
    "svm_visual = SVC(kernel='rbf', random_state=42, gamma='scale')\n",
    "svm_visual.fit(X_pca, y)"
   ]
  },
  {
   "cell_type": "code",
   "execution_count": null,
   "id": "6d32f6e6",
   "metadata": {},
   "outputs": [],
   "source": [
    "x_min, x_max = X_pca[:, 0].min() - 1, X_pca[:, 0].max() + 1\n",
    "y_min, y_max = X_pca[:, 1].min() - 1, X_pca[:, 1].max() + 1\n",
    "xx, yy = np.meshgrid(np.arange(x_min, x_max, 0.02),\n",
    "                     np.arange(y_min, y_max, 0.02))"
   ]
  },
  {
   "cell_type": "code",
   "execution_count": null,
   "id": "9ea8b5f8",
   "metadata": {},
   "outputs": [],
   "source": [
    "Z = svm_visual.predict(np.c_[xx.ravel(), yy.ravel()])\n",
    "Z = Z.reshape(xx.shape)"
   ]
  },
  {
   "cell_type": "code",
   "execution_count": null,
   "id": "55621706",
   "metadata": {},
   "outputs": [],
   "source": [
    "plt.figure(figsize=(10, 7))\n",
    "plt.contourf(xx, yy, Z, alpha=0.8, cmap=plt.cm.coolwarm)\n",
    "plt.scatter(X_pca[:, 0], X_pca[:, 1], c=y, cmap=plt.cm.coolwarm, s=20, edgecolors='k')\n",
    "plt.xlabel('Principal Component 1')\n",
    "plt.ylabel('Principal Component 2')\n",
    "plt.title('SVM Decision Boundary (RBF Kernel, PCA-reduced Data)')\n",
    "plt.colorbar(label='Churn (0=No, 1=Yes)')\n",
    "plt.show()"
   ]
  },
  {
   "cell_type": "code",
   "execution_count": null,
   "id": "cf96fc56",
   "metadata": {},
   "outputs": [],
   "source": [
    "print(\"\\nSVM Classification task completed.\")"
   ]
  }
 ],
 "metadata": {
  "language_info": {
   "name": "python"
  }
 },
 "nbformat": 4,
 "nbformat_minor": 5
}
