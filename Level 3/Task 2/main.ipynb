{
 "cells": [
  {
   "cell_type": "code",
   "execution_count": null,
   "id": "d901f4a1",
   "metadata": {},
   "outputs": [],
   "source": [
    "import pandas as pd\n",
    "import numpy as np\n",
    "import matplotlib.pyplot as plt\n",
    "from sklearn.model_selection import train_test_split\n",
    "from sklearn.preprocessing import StandardScaler\n",
    "from sklearn.svm import SVC\n",
    "from sklearn.metrics import accuracy_score, precision_score, recall_score, roc_auc_score, roc_curve"
   ]
  },
  {
   "cell_type": "markdown",
   "id": "b0dfe394",
   "metadata": {},
   "source": [
    "# 1. Data Loading and Preprocessing"
   ]
  },
  {
   "cell_type": "code",
   "execution_count": null,
   "id": "6059477c",
   "metadata": {},
   "outputs": [],
   "source": [
    "try:\n",
    "    data = pd.read_csv('data.csv')\n",
    "except FileNotFoundError:\n",
    "    print(\"Error: 'data.csv' not found.\")\n",
    "    print(\"Please make sure the dataset is in the same directory as the script.\")\n",
    "    exit()"
   ]
  },
  {
   "cell_type": "code",
   "execution_count": null,
   "id": "a91e2c2f",
   "metadata": {},
   "outputs": [],
   "source": [
    "features = ['Day Mins', 'Eve Mins']\n",
    "target = 'Churn'"
   ]
  },
  {
   "cell_type": "code",
   "execution_count": null,
   "id": "f959b348",
   "metadata": {},
   "outputs": [],
   "source": [
    "X = data[features]\n",
    "y = data[target]"
   ]
  },
  {
   "cell_type": "code",
   "execution_count": null,
   "id": "af8a115e",
   "metadata": {},
   "outputs": [],
   "source": [
    "y = y.astype(int)"
   ]
  },
  {
   "cell_type": "markdown",
   "id": "f6787816",
   "metadata": {},
   "source": [
    "# 2. Train-Test Split"
   ]
  },
  {
   "cell_type": "code",
   "execution_count": null,
   "id": "859b9b23",
   "metadata": {},
   "outputs": [],
   "source": [
    "X_train, X_test, y_train, y_test = train_test_split(\n",
    "    X, y, test_size=0.2, random_state=42, stratify=y\n",
    ")"
   ]
  },
  {
   "cell_type": "markdown",
   "id": "19138088",
   "metadata": {},
   "source": [
    "# 3. Feature Scaling"
   ]
  },
  {
   "cell_type": "code",
   "execution_count": null,
   "id": "895c91f5",
   "metadata": {},
   "outputs": [],
   "source": [
    "scaler = StandardScaler()\n",
    "X_train_scaled = scaler.fit_transform(X_train)\n",
    "X_test_scaled = scaler.transform(X_test)"
   ]
  },
  {
   "cell_type": "markdown",
   "id": "b55d365f",
   "metadata": {},
   "source": [
    "# 4. SVM Model Training"
   ]
  },
  {
   "cell_type": "code",
   "execution_count": null,
   "id": "96ad395b",
   "metadata": {},
   "outputs": [],
   "source": [
    "print(\"Training SVM with Linear Kernel...\")\n",
    "svm_linear = SVC(kernel='linear', probability=True, random_state=42)\n",
    "svm_linear.fit(X_train_scaled, y_train)\n",
    "print(\"Linear SVM training complete.\")"
   ]
  },
  {
   "cell_type": "code",
   "execution_count": null,
   "id": "ad78f16c",
   "metadata": {},
   "outputs": [],
   "source": [
    "print(\"\\nTraining SVM with RBF Kernel...\")\n",
    "svm_rbf = SVC(kernel='rbf', probability=True, random_state=42)\n",
    "svm_rbf.fit(X_train_scaled, y_train)\n",
    "print(\"RBF SVM training complete.\")"
   ]
  },
  {
   "cell_type": "markdown",
   "id": "2de15091",
   "metadata": {},
   "source": [
    "# 5. Model Evaluation"
   ]
  },
  {
   "cell_type": "code",
   "execution_count": null,
   "id": "490a2a76",
   "metadata": {},
   "outputs": [],
   "source": [
    "def evaluate_model(model, X_test, y_test, model_name=\"Model\"):\n",
    "    \"\"\"\n",
    "    Evaluates the model on the test set and prints performance metrics.\n",
    "    \"\"\"\n",
    "    # Make predictions\n",
    "    y_pred = model.predict(X_test)\n",
    "    y_pred_proba = model.predict_proba(X_test)[:, 1] # Probabilities for the positive class\n",
    "\n",
    "    # Calculate metrics\n",
    "    accuracy = accuracy_score(y_test, y_pred)\n",
    "    precision = precision_score(y_test, y_pred)\n",
    "    recall = recall_score(y_test, y_pred)\n",
    "    auc = roc_auc_score(y_test, y_pred_proba)\n",
    "\n",
    "    print(f\"\\n--- {model_name} Evaluation ---\")\n",
    "    print(f\"Accuracy:  {accuracy:.4f}\")\n",
    "    print(f\"Precision: {precision:.4f}\")\n",
    "    print(f\"Recall:    {recall:.4f}\")\n",
    "    print(f\"AUC Score: {auc:.4f}\")\n",
    "    return y_pred_proba"
   ]
  },
  {
   "cell_type": "code",
   "execution_count": null,
   "id": "b67b1f04",
   "metadata": {},
   "outputs": [],
   "source": [
    "y_pred_proba_linear = evaluate_model(svm_linear, X_test_scaled, y_test, \"Linear SVM\")\n",
    "y_pred_proba_rbf = evaluate_model(svm_rbf, X_test_scaled, y_test, \"RBF SVM\")"
   ]
  },
  {
   "cell_type": "markdown",
   "id": "ebeda235",
   "metadata": {},
   "source": [
    "# 6. Decision Boundary Visualization"
   ]
  },
  {
   "cell_type": "code",
   "execution_count": null,
   "id": "a449cd59",
   "metadata": {},
   "outputs": [],
   "source": [
    "def plot_decision_boundary(model, X, y, scaler, title):\n",
    "    \"\"\"\n",
    "    Plots the decision boundary for a trained SVM model.\n",
    "    \"\"\"\n",
    "    x_min, x_max = X[:, 0].min() - 1, X[:, 0].max() + 1\n",
    "    y_min, y_max = X[:, 1].min() - 1, X[:, 1].max() + 1\n",
    "    xx, yy = np.meshgrid(np.arange(x_min, x_max, 0.02),\n",
    "                         np.arange(y_min, y_max, 0.02))\n",
    "\n",
    "    Z = model.predict(np.c_[xx.ravel(), yy.ravel()])\n",
    "    Z = Z.reshape(xx.shape)\n",
    "\n",
    "    plt.figure(figsize=(10, 7))\n",
    "    plt.contourf(xx, yy, Z, cmap=plt.cm.coolwarm, alpha=0.8)\n",
    "\n",
    "    scatter = plt.scatter(X[:, 0], X[:, 1], c=y, cmap=plt.cm.coolwarm, edgecolors='k')\n",
    "    \n",
    "    handles, _ = scatter.legend_elements()\n",
    "    legend_labels = ['No Churn', 'Churn']\n",
    "    plt.legend(handles, legend_labels, title=\"Classes\")\n",
    "\n",
    "    x_label = features[0]\n",
    "    y_label = features[1]\n",
    "\n",
    "    plt.title(title)\n",
    "    plt.xlabel(f\"Scaled {x_label}\")\n",
    "    plt.ylabel(f\"Scaled {y_label}\")\n",
    "    plt.xlim(xx.min(), xx.max())\n",
    "    plt.ylim(yy.min(), yy.max())\n",
    "    plt.show()"
   ]
  },
  {
   "cell_type": "code",
   "execution_count": null,
   "id": "8435e0a9",
   "metadata": {},
   "outputs": [],
   "source": [
    "print(\"\\nGenerating decision boundary plots...\")\n",
    "plot_decision_boundary(svm_linear, X_train_scaled, y_train, scaler, 'SVM Decision Boundary (Linear Kernel)')\n",
    "plot_decision_boundary(svm_rbf, X_train_scaled, y_train, scaler, 'SVM Decision Boundary (RBF Kernel)')\n",
    "print(\"Plot generation complete.\")"
   ]
  },
  {
   "cell_type": "markdown",
   "id": "aca1e178",
   "metadata": {},
   "source": [
    "# 7. ROC Curve Comparison"
   ]
  },
  {
   "cell_type": "code",
   "execution_count": null,
   "id": "4f328b91",
   "metadata": {},
   "outputs": [],
   "source": [
    "plt.figure(figsize=(10, 7))"
   ]
  },
  {
   "cell_type": "code",
   "execution_count": null,
   "id": "b57ad040",
   "metadata": {},
   "outputs": [],
   "source": [
    "fpr_linear, tpr_linear, _ = roc_curve(y_test, y_pred_proba_linear)\n",
    "plt.plot(fpr_linear, tpr_linear, linestyle='-', label=f'Linear SVM (AUC = {roc_auc_score(y_test, y_pred_proba_linear):.2f})')"
   ]
  },
  {
   "cell_type": "code",
   "execution_count": null,
   "id": "361ff315",
   "metadata": {},
   "outputs": [],
   "source": [
    "fpr_rbf, tpr_rbf, _ = roc_curve(y_test, y_pred_proba_rbf)\n",
    "plt.plot(fpr_rbf, tpr_rbf, linestyle='--', label=f'RBF SVM (AUC = {roc_auc_score(y_test, y_pred_proba_rbf):.2f})')"
   ]
  },
  {
   "cell_type": "code",
   "execution_count": null,
   "id": "ed7dcdb3",
   "metadata": {},
   "outputs": [],
   "source": [
    "plt.plot([0, 1], [0, 1], 'k--', label='Random Guess')\n",
    "\n",
    "plt.title('ROC Curve Comparison')\n",
    "plt.xlabel('False Positive Rate')\n",
    "plt.ylabel('True Positive Rate')\n",
    "plt.legend()\n",
    "plt.grid(True)\n",
    "plt.show()"
   ]
  }
 ],
 "metadata": {
  "kernelspec": {
   "display_name": "Python 3",
   "language": "python",
   "name": "python3"
  },
  "language_info": {
   "codemirror_mode": {
    "name": "ipython",
    "version": 3
   },
   "file_extension": ".py",
   "mimetype": "text/x-python",
   "name": "python",
   "nbconvert_exporter": "python",
   "pygments_lexer": "ipython3",
   "version": "3.12.1"
  }
 },
 "nbformat": 4,
 "nbformat_minor": 5
}
