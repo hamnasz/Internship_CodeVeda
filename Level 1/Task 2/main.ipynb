{
 "cells": [
  {
   "cell_type": "code",
   "execution_count": 1,
   "id": "97e299b3",
   "metadata": {},
   "outputs": [],
   "source": [
    "import numpy as np"
   ]
  },
  {
   "cell_type": "code",
   "execution_count": 2,
   "id": "df8964a6",
   "metadata": {},
   "outputs": [],
   "source": [
    "import pandas as pd"
   ]
  },
  {
   "cell_type": "code",
   "execution_count": 3,
   "id": "c11f983d",
   "metadata": {},
   "outputs": [],
   "source": [
    "from sklearn.model_selection import train_test_split"
   ]
  },
  {
   "cell_type": "code",
   "execution_count": 4,
   "id": "4934c257",
   "metadata": {},
   "outputs": [],
   "source": [
    "from sklearn.linear_model import LinearRegression"
   ]
  },
  {
   "cell_type": "code",
   "execution_count": 5,
   "id": "13b8d726",
   "metadata": {},
   "outputs": [],
   "source": [
    "from sklearn.metrics import r2_score, mean_squared_error"
   ]
  },
  {
   "cell_type": "markdown",
   "id": "aef03977",
   "metadata": {},
   "source": [
    "# 1. Load the dataset"
   ]
  },
  {
   "cell_type": "code",
   "execution_count": 6,
   "id": "76641e1b",
   "metadata": {},
   "outputs": [
    {
     "name": "stdout",
     "output_type": "stream",
     "text": [
      "Dataset loaded successfully.\n",
      "First 5 rows of the dataset:\n",
      "  0.00632  18.00   2.310  0  0.5380  6.5750  65.20  4.0900   1  296.0  15.30 396.90   4.98  24.00\n",
      "0   0.02731   0.00   7.070  0  0.4690  6.4210  78...                                             \n",
      "1   0.02729   0.00   7.070  0  0.4690  7.1850  61...                                             \n",
      "2   0.03237   0.00   2.180  0  0.4580  6.9980  45...                                             \n",
      "3   0.06905   0.00   2.180  0  0.4580  7.1470  54...                                             \n",
      "4   0.02985   0.00   2.180  0  0.4580  6.4300  58...                                             \n",
      "\n",
      "Dataset Info:\n",
      "<class 'pandas.core.frame.DataFrame'>\n",
      "RangeIndex: 505 entries, 0 to 504\n",
      "Data columns (total 1 columns):\n",
      " #   Column                                                                                            Non-Null Count  Dtype \n",
      "---  ------                                                                                            --------------  ----- \n",
      " 0    0.00632  18.00   2.310  0  0.5380  6.5750  65.20  4.0900   1  296.0  15.30 396.90   4.98  24.00  505 non-null    object\n",
      "dtypes: object(1)\n",
      "memory usage: 4.1+ KB\n"
     ]
    }
   ],
   "source": [
    "try:\n",
    "    data = pd.read_csv('data.csv')\n",
    "    print(\"Dataset loaded successfully.\")\n",
    "    print(\"First 5 rows of the dataset:\")\n",
    "    print(data.head())\n",
    "    print(\"\\nDataset Info:\")\n",
    "    data.info()\n",
    "except FileNotFoundError:\n",
    "    print(\"Error: '4) house Prediction Data Set.csv' not found. Please ensure the file is correctly uploaded.\")\n",
    "    exit()"
   ]
  },
  {
   "cell_type": "markdown",
   "id": "c4e3cb42",
   "metadata": {},
   "source": [
    "# 2. Preprocess the data"
   ]
  },
  {
   "cell_type": "code",
   "execution_count": 7,
   "id": "c1f150c6",
   "metadata": {},
   "outputs": [],
   "source": [
    "target_column = None\n",
    "possible_price_columns = ['Price', 'SalePrice', 'HousePrice', 'price']\n",
    "for col in possible_price_columns:\n",
    "    if col in data.columns:\n",
    "        target_column = col\n",
    "        break"
   ]
  },
  {
   "cell_type": "code",
   "execution_count": 8,
   "id": "1b573f82",
   "metadata": {},
   "outputs": [
    {
     "name": "stdout",
     "output_type": "stream",
     "text": [
      "\n",
      "Could not automatically identify the target 'Price' column.\n",
      "Please specify the target column from the available columns:\n",
      "[' 0.00632  18.00   2.310  0  0.5380  6.5750  65.20  4.0900   1  296.0  15.30 396.90   4.98  24.00']\n",
      "Dataset has only one column or no suitable target column found. Cannot proceed.\n"
     ]
    }
   ],
   "source": [
    "if target_column is None:\n",
    "    print(\"\\nCould not automatically identify the target 'Price' column.\")\n",
    "    print(\"Please specify the target column from the available columns:\")\n",
    "    print(data.columns.tolist())\n",
    "    # As a fallback, let's try to use the last column as target if 'Price' isn't found\n",
    "    # This is a heuristic and might need manual adjustment by the user.\n",
    "    if data.shape[1] > 1:\n",
    "        target_column = data.columns[-1]\n",
    "        print(f\"Using '{target_column}' as the target column as a fallback.\")\n",
    "    else:\n",
    "        print(\"Dataset has only one column or no suitable target column found. Cannot proceed.\")\n",
    "        exit()"
   ]
  },
  {
   "cell_type": "code",
   "execution_count": 9,
   "id": "d206169d",
   "metadata": {},
   "outputs": [],
   "source": [
    "initial_rows = data.shape[0]\n",
    "data.dropna(inplace=True)\n",
    "rows_after_dropna = data.shape[0]\n",
    "if initial_rows > rows_after_dropna:\n",
    "    print(f\"\\nDropped {initial_rows - rows_after_dropna} rows with missing values.\")"
   ]
  },
  {
   "cell_type": "code",
   "execution_count": 10,
   "id": "d998f34c",
   "metadata": {},
   "outputs": [],
   "source": [
    "features = [col for col in data.columns if col != target_column]"
   ]
  },
  {
   "cell_type": "code",
   "execution_count": 11,
   "id": "81794a61",
   "metadata": {},
   "outputs": [
    {
     "name": "stdout",
     "output_type": "stream",
     "text": [
      "\n",
      "Warning: Some non-numeric features were excluded. Only numeric features will be used.\n",
      "Original features: [' 0.00632  18.00   2.310  0  0.5380  6.5750  65.20  4.0900   1  296.0  15.30 396.90   4.98  24.00']\n",
      "Numeric features used: []\n"
     ]
    }
   ],
   "source": [
    "numeric_features = data[features].select_dtypes(include=np.number).columns.tolist()\n",
    "if len(numeric_features) != len(features):\n",
    "    print(\"\\nWarning: Some non-numeric features were excluded. Only numeric features will be used.\")\n",
    "    print(f\"Original features: {features}\")\n",
    "    print(f\"Numeric features used: {numeric_features}\")"
   ]
  },
  {
   "cell_type": "code",
   "execution_count": 12,
   "id": "81c03818",
   "metadata": {},
   "outputs": [],
   "source": [
    "features = numeric_features"
   ]
  },
  {
   "cell_type": "code",
   "execution_count": 13,
   "id": "ec477032",
   "metadata": {},
   "outputs": [
    {
     "name": "stdout",
     "output_type": "stream",
     "text": [
      "Error: No numeric features found to train the model. Please check your dataset.\n"
     ]
    }
   ],
   "source": [
    "if not features:\n",
    "    print(\"Error: No numeric features found to train the model. Please check your dataset.\")\n",
    "    exit()"
   ]
  },
  {
   "cell_type": "code",
   "execution_count": null,
   "id": "a646a274",
   "metadata": {},
   "outputs": [
    {
     "ename": "KeyError",
     "evalue": "None",
     "output_type": "error",
     "traceback": [
      "\u001b[31m---------------------------------------------------------------------------\u001b[39m",
      "\u001b[31mKeyError\u001b[39m                                  Traceback (most recent call last)",
      "\u001b[36mFile \u001b[39m\u001b[32m~/.local/lib/python3.12/site-packages/pandas/core/indexes/base.py:3812\u001b[39m, in \u001b[36mIndex.get_loc\u001b[39m\u001b[34m(self, key)\u001b[39m\n\u001b[32m   3811\u001b[39m \u001b[38;5;28;01mtry\u001b[39;00m:\n\u001b[32m-> \u001b[39m\u001b[32m3812\u001b[39m     \u001b[38;5;28;01mreturn\u001b[39;00m \u001b[38;5;28;43mself\u001b[39;49m\u001b[43m.\u001b[49m\u001b[43m_engine\u001b[49m\u001b[43m.\u001b[49m\u001b[43mget_loc\u001b[49m\u001b[43m(\u001b[49m\u001b[43mcasted_key\u001b[49m\u001b[43m)\u001b[49m\n\u001b[32m   3813\u001b[39m \u001b[38;5;28;01mexcept\u001b[39;00m \u001b[38;5;167;01mKeyError\u001b[39;00m \u001b[38;5;28;01mas\u001b[39;00m err:\n",
      "\u001b[36mFile \u001b[39m\u001b[32mpandas/_libs/index.pyx:167\u001b[39m, in \u001b[36mpandas._libs.index.IndexEngine.get_loc\u001b[39m\u001b[34m()\u001b[39m\n",
      "\u001b[36mFile \u001b[39m\u001b[32mpandas/_libs/index.pyx:196\u001b[39m, in \u001b[36mpandas._libs.index.IndexEngine.get_loc\u001b[39m\u001b[34m()\u001b[39m\n",
      "\u001b[36mFile \u001b[39m\u001b[32mpandas/_libs/hashtable_class_helper.pxi:7088\u001b[39m, in \u001b[36mpandas._libs.hashtable.PyObjectHashTable.get_item\u001b[39m\u001b[34m()\u001b[39m\n",
      "\u001b[36mFile \u001b[39m\u001b[32mpandas/_libs/hashtable_class_helper.pxi:7096\u001b[39m, in \u001b[36mpandas._libs.hashtable.PyObjectHashTable.get_item\u001b[39m\u001b[34m()\u001b[39m\n",
      "\u001b[31mKeyError\u001b[39m: None",
      "\nThe above exception was the direct cause of the following exception:\n",
      "\u001b[31mKeyError\u001b[39m                                  Traceback (most recent call last)",
      "\u001b[36mCell\u001b[39m\u001b[36m \u001b[39m\u001b[32mIn[14]\u001b[39m\u001b[32m, line 2\u001b[39m\n\u001b[32m      1\u001b[39m X = data[features]\n\u001b[32m----> \u001b[39m\u001b[32m2\u001b[39m y = \u001b[43mdata\u001b[49m\u001b[43m[\u001b[49m\u001b[43mtarget_column\u001b[49m\u001b[43m]\u001b[49m\n",
      "\u001b[36mFile \u001b[39m\u001b[32m~/.local/lib/python3.12/site-packages/pandas/core/frame.py:4107\u001b[39m, in \u001b[36mDataFrame.__getitem__\u001b[39m\u001b[34m(self, key)\u001b[39m\n\u001b[32m   4105\u001b[39m \u001b[38;5;28;01mif\u001b[39;00m \u001b[38;5;28mself\u001b[39m.columns.nlevels > \u001b[32m1\u001b[39m:\n\u001b[32m   4106\u001b[39m     \u001b[38;5;28;01mreturn\u001b[39;00m \u001b[38;5;28mself\u001b[39m._getitem_multilevel(key)\n\u001b[32m-> \u001b[39m\u001b[32m4107\u001b[39m indexer = \u001b[38;5;28;43mself\u001b[39;49m\u001b[43m.\u001b[49m\u001b[43mcolumns\u001b[49m\u001b[43m.\u001b[49m\u001b[43mget_loc\u001b[49m\u001b[43m(\u001b[49m\u001b[43mkey\u001b[49m\u001b[43m)\u001b[49m\n\u001b[32m   4108\u001b[39m \u001b[38;5;28;01mif\u001b[39;00m is_integer(indexer):\n\u001b[32m   4109\u001b[39m     indexer = [indexer]\n",
      "\u001b[36mFile \u001b[39m\u001b[32m~/.local/lib/python3.12/site-packages/pandas/core/indexes/base.py:3819\u001b[39m, in \u001b[36mIndex.get_loc\u001b[39m\u001b[34m(self, key)\u001b[39m\n\u001b[32m   3814\u001b[39m     \u001b[38;5;28;01mif\u001b[39;00m \u001b[38;5;28misinstance\u001b[39m(casted_key, \u001b[38;5;28mslice\u001b[39m) \u001b[38;5;129;01mor\u001b[39;00m (\n\u001b[32m   3815\u001b[39m         \u001b[38;5;28misinstance\u001b[39m(casted_key, abc.Iterable)\n\u001b[32m   3816\u001b[39m         \u001b[38;5;129;01mand\u001b[39;00m \u001b[38;5;28many\u001b[39m(\u001b[38;5;28misinstance\u001b[39m(x, \u001b[38;5;28mslice\u001b[39m) \u001b[38;5;28;01mfor\u001b[39;00m x \u001b[38;5;129;01min\u001b[39;00m casted_key)\n\u001b[32m   3817\u001b[39m     ):\n\u001b[32m   3818\u001b[39m         \u001b[38;5;28;01mraise\u001b[39;00m InvalidIndexError(key)\n\u001b[32m-> \u001b[39m\u001b[32m3819\u001b[39m     \u001b[38;5;28;01mraise\u001b[39;00m \u001b[38;5;167;01mKeyError\u001b[39;00m(key) \u001b[38;5;28;01mfrom\u001b[39;00m\u001b[38;5;250m \u001b[39m\u001b[34;01merr\u001b[39;00m\n\u001b[32m   3820\u001b[39m \u001b[38;5;28;01mexcept\u001b[39;00m \u001b[38;5;167;01mTypeError\u001b[39;00m:\n\u001b[32m   3821\u001b[39m     \u001b[38;5;66;03m# If we have a listlike key, _check_indexing_error will raise\u001b[39;00m\n\u001b[32m   3822\u001b[39m     \u001b[38;5;66;03m#  InvalidIndexError. Otherwise we fall through and re-raise\u001b[39;00m\n\u001b[32m   3823\u001b[39m     \u001b[38;5;66;03m#  the TypeError.\u001b[39;00m\n\u001b[32m   3824\u001b[39m     \u001b[38;5;28mself\u001b[39m._check_indexing_error(key)\n",
      "\u001b[31mKeyError\u001b[39m: None"
     ]
    },
    {
     "ename": "",
     "evalue": "",
     "output_type": "error",
     "traceback": [
      "\u001b[1;31mThe Kernel crashed while executing code in the current cell or a previous cell. \n",
      "\u001b[1;31mPlease review the code in the cell(s) to identify a possible cause of the failure. \n",
      "\u001b[1;31mClick <a href='https://aka.ms/vscodeJupyterKernelCrash'>here</a> for more info. \n",
      "\u001b[1;31mView Jupyter <a href='command:jupyter.viewOutput'>log</a> for further details."
     ]
    }
   ],
   "source": [
    "X = data[features]\n",
    "y = data[target_column]"
   ]
  },
  {
   "cell_type": "code",
   "execution_count": null,
   "id": "d072866e",
   "metadata": {},
   "outputs": [],
   "source": [
    "print(f\"\\nFeatures (X) shape: {X.shape}\")\n",
    "print(f\"Target (y) shape: {y.shape}\")"
   ]
  },
  {
   "cell_type": "code",
   "execution_count": null,
   "id": "f4f75b6a",
   "metadata": {},
   "outputs": [],
   "source": [
    "X_train, X_test, y_train, y_test = train_test_split(X, y, test_size=0.2, random_state=42)"
   ]
  },
  {
   "cell_type": "code",
   "execution_count": null,
   "id": "9ad7d925",
   "metadata": {},
   "outputs": [],
   "source": [
    "print(f\"\\nTraining data size: {X_train.shape[0]} samples\")\n",
    "print(f\"Testing data size: {X_test.shape[0]} samples\")"
   ]
  },
  {
   "cell_type": "markdown",
   "id": "7a1ec176",
   "metadata": {},
   "source": [
    "# 3. Train a linear regression model"
   ]
  },
  {
   "cell_type": "code",
   "execution_count": null,
   "id": "17f3b798",
   "metadata": {},
   "outputs": [],
   "source": [
    "model = LinearRegression()\n",
    "model.fit(X_train, y_train)\n",
    "print(\"\\nLinear Regression model trained successfully.\")"
   ]
  },
  {
   "cell_type": "markdown",
   "id": "e021b762",
   "metadata": {},
   "source": [
    "# 4. Interpret the model coefficients"
   ]
  },
  {
   "cell_type": "code",
   "execution_count": null,
   "id": "f5f08048",
   "metadata": {},
   "outputs": [],
   "source": [
    "print(\"\\n--- Model Coefficients ---\")\n",
    "print(f\"Intercept: {model.intercept_:.2f}\")"
   ]
  },
  {
   "cell_type": "code",
   "execution_count": null,
   "id": "f257d5dd",
   "metadata": {},
   "outputs": [],
   "source": [
    "coefficients = pd.DataFrame({'Feature': X.columns, 'Coefficient': model.coef_})\n",
    "print(coefficients)\n",
    "print(\"\\nInterpretation of Coefficients:\")\n",
    "print(\"For each unit increase in a feature, holding other features constant,\")\n",
    "print(\"the target variable (Price) is expected to change by the value of its coefficient.\")"
   ]
  },
  {
   "cell_type": "markdown",
   "id": "07f77e4d",
   "metadata": {},
   "source": [
    "# 5. Evaluate the model"
   ]
  },
  {
   "cell_type": "code",
   "execution_count": null,
   "id": "3cc3c877",
   "metadata": {},
   "outputs": [],
   "source": [
    "y_pred = model.predict(X_test)\n",
    "\n",
    "r_squared = r2_score(y_test, y_pred)\n",
    "mse = mean_squared_error(y_test, y_pred)\n",
    "rmse = np.sqrt(mse"
   ]
  },
  {
   "cell_type": "code",
   "execution_count": null,
   "id": "22396036",
   "metadata": {},
   "outputs": [],
   "source": [
    "print(\"\\n--- Model Evaluation ---\")\n",
    "print(f\"R-squared (R²): {r_squared:.4f}\")\n",
    "print(f\"Mean Squared Error (MSE): {mse:.2f}\")\n",
    "print(f\"Root Mean Squared Error (RMSE): {rmse:.2f}\")"
   ]
  },
  {
   "cell_type": "code",
   "execution_count": null,
   "id": "a2ad6078",
   "metadata": {},
   "outputs": [],
   "source": [
    "print(\"\\nInterpretation of Evaluation Metrics:\")\n",
    "print(f\"R-squared (R²): {r_squared:.4f} indicates the proportion of the variance in the dependent variable (Price)\")\n",
    "print(\"that is predictable from the independent variables (features). A higher R² value (closer to 1) indicates a better fit.\")\n",
    "print(f\"Mean Squared Error (MSE): {mse:.2f} is the average of the squared differences between the predicted and actual values.\")\n",
    "print(\"It measures the average magnitude of the errors. Lower MSE indicates better accuracy.\")\n",
    "print(f\"Root Mean Squared Error (RMSE): {rmse:.2f} is the square root of MSE and is in the same units as the target variable,\")\n",
    "print(\"making it more interpretable than MSE.\")"
   ]
  }
 ],
 "metadata": {
  "kernelspec": {
   "display_name": "Python 3",
   "language": "python",
   "name": "python3"
  },
  "language_info": {
   "codemirror_mode": {
    "name": "ipython",
    "version": 3
   },
   "file_extension": ".py",
   "mimetype": "text/x-python",
   "name": "python",
   "nbconvert_exporter": "python",
   "pygments_lexer": "ipython3",
   "version": "3.12.1"
  }
 },
 "nbformat": 4,
 "nbformat_minor": 5
}
