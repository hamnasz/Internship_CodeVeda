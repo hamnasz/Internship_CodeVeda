{
 "cells": [
  {
   "cell_type": "code",
   "execution_count": null,
   "id": "97e299b3",
   "metadata": {},
   "outputs": [],
   "source": [
    "import numpy as np"
   ]
  },
  {
   "cell_type": "code",
   "execution_count": null,
   "id": "df8964a6",
   "metadata": {},
   "outputs": [],
   "source": [
    "import pandas as pd"
   ]
  },
  {
   "cell_type": "code",
   "execution_count": null,
   "id": "c11f983d",
   "metadata": {},
   "outputs": [],
   "source": [
    "from sklearn.model_selection import train_test_split"
   ]
  },
  {
   "cell_type": "code",
   "execution_count": null,
   "id": "4934c257",
   "metadata": {},
   "outputs": [],
   "source": [
    "from sklearn.linear_model import LinearRegression"
   ]
  },
  {
   "cell_type": "code",
   "execution_count": null,
   "id": "13b8d726",
   "metadata": {},
   "outputs": [],
   "source": [
    "from sklearn.metrics import r2_score, mean_squared_error"
   ]
  },
  {
   "cell_type": "markdown",
   "id": "aef03977",
   "metadata": {},
   "source": [
    "# 1. Load the dataset"
   ]
  },
  {
   "cell_type": "code",
   "execution_count": null,
   "id": "76641e1b",
   "metadata": {},
   "outputs": [],
   "source": [
    "try:\n",
    "    data = pd.read_csv('4) house Prediction Data Set.csv')\n",
    "    print(\"Dataset loaded successfully.\")\n",
    "    print(\"First 5 rows of the dataset:\")\n",
    "    print(data.head())\n",
    "    print(\"\\nDataset Info:\")\n",
    "    data.info()\n",
    "except FileNotFoundError:\n",
    "    print(\"Error: '4) house Prediction Data Set.csv' not found. Please ensure the file is correctly uploaded.\")\n",
    "    exit()"
   ]
  },
  {
   "cell_type": "markdown",
   "id": "c4e3cb42",
   "metadata": {},
   "source": [
    "# 2. Preprocess the data"
   ]
  },
  {
   "cell_type": "code",
   "execution_count": null,
   "id": "c1f150c6",
   "metadata": {},
   "outputs": [],
   "source": [
    "target_column = None\n",
    "possible_price_columns = ['Price', 'SalePrice', 'HousePrice', 'price']\n",
    "for col in possible_price_columns:\n",
    "    if col in data.columns:\n",
    "        target_column = col\n",
    "        break"
   ]
  },
  {
   "cell_type": "code",
   "execution_count": null,
   "id": "1b573f82",
   "metadata": {},
   "outputs": [],
   "source": [
    "if target_column is None:\n",
    "    print(\"\\nCould not automatically identify the target 'Price' column.\")\n",
    "    print(\"Please specify the target column from the available columns:\")\n",
    "    print(data.columns.tolist())\n",
    "    # As a fallback, let's try to use the last column as target if 'Price' isn't found\n",
    "    # This is a heuristic and might need manual adjustment by the user.\n",
    "    if data.shape[1] > 1:\n",
    "        target_column = data.columns[-1]\n",
    "        print(f\"Using '{target_column}' as the target column as a fallback.\")\n",
    "    else:\n",
    "        print(\"Dataset has only one column or no suitable target column found. Cannot proceed.\")\n",
    "        exit()"
   ]
  },
  {
   "cell_type": "code",
   "execution_count": null,
   "id": "d206169d",
   "metadata": {},
   "outputs": [],
   "source": [
    "initial_rows = data.shape[0]\n",
    "data.dropna(inplace=True)\n",
    "rows_after_dropna = data.shape[0]\n",
    "if initial_rows > rows_after_dropna:\n",
    "    print(f\"\\nDropped {initial_rows - rows_after_dropna} rows with missing values.\")"
   ]
  },
  {
   "cell_type": "code",
   "execution_count": null,
   "id": "d998f34c",
   "metadata": {},
   "outputs": [],
   "source": [
    "features = [col for col in data.columns if col != target_column]"
   ]
  },
  {
   "cell_type": "code",
   "execution_count": null,
   "id": "81794a61",
   "metadata": {},
   "outputs": [],
   "source": [
    "numeric_features = data[features].select_dtypes(include=np.number).columns.tolist()\n",
    "if len(numeric_features) != len(features):\n",
    "    print(\"\\nWarning: Some non-numeric features were excluded. Only numeric features will be used.\")\n",
    "    print(f\"Original features: {features}\")\n",
    "    print(f\"Numeric features used: {numeric_features}\")"
   ]
  },
  {
   "cell_type": "code",
   "execution_count": null,
   "id": "81c03818",
   "metadata": {},
   "outputs": [],
   "source": [
    "features = numeric_features"
   ]
  },
  {
   "cell_type": "code",
   "execution_count": null,
   "id": "ec477032",
   "metadata": {},
   "outputs": [],
   "source": [
    "if not features:\n",
    "    print(\"Error: No numeric features found to train the model. Please check your dataset.\")\n",
    "    exit()"
   ]
  },
  {
   "cell_type": "code",
   "execution_count": null,
   "id": "a646a274",
   "metadata": {},
   "outputs": [],
   "source": [
    "X = data[features]\n",
    "y = data[target_column]"
   ]
  },
  {
   "cell_type": "code",
   "execution_count": null,
   "id": "d072866e",
   "metadata": {},
   "outputs": [],
   "source": [
    "print(f\"\\nFeatures (X) shape: {X.shape}\")\n",
    "print(f\"Target (y) shape: {y.shape}\")"
   ]
  },
  {
   "cell_type": "code",
   "execution_count": null,
   "id": "f4f75b6a",
   "metadata": {},
   "outputs": [],
   "source": [
    "X_train, X_test, y_train, y_test = train_test_split(X, y, test_size=0.2, random_state=42)"
   ]
  },
  {
   "cell_type": "code",
   "execution_count": null,
   "id": "9ad7d925",
   "metadata": {},
   "outputs": [],
   "source": [
    "print(f\"\\nTraining data size: {X_train.shape[0]} samples\")\n",
    "print(f\"Testing data size: {X_test.shape[0]} samples\")"
   ]
  },
  {
   "cell_type": "markdown",
   "id": "7a1ec176",
   "metadata": {},
   "source": [
    "# 3. Train a linear regression model"
   ]
  },
  {
   "cell_type": "code",
   "execution_count": null,
   "id": "17f3b798",
   "metadata": {},
   "outputs": [],
   "source": [
    "model = LinearRegression()\n",
    "model.fit(X_train, y_train)\n",
    "print(\"\\nLinear Regression model trained successfully.\")"
   ]
  },
  {
   "cell_type": "markdown",
   "id": "e021b762",
   "metadata": {},
   "source": [
    "# 4. Interpret the model coefficients"
   ]
  },
  {
   "cell_type": "code",
   "execution_count": null,
   "id": "f5f08048",
   "metadata": {},
   "outputs": [],
   "source": [
    "print(\"\\n--- Model Coefficients ---\")\n",
    "print(f\"Intercept: {model.intercept_:.2f}\")"
   ]
  },
  {
   "cell_type": "code",
   "execution_count": null,
   "id": "f257d5dd",
   "metadata": {},
   "outputs": [],
   "source": [
    "coefficients = pd.DataFrame({'Feature': X.columns, 'Coefficient': model.coef_})\n",
    "print(coefficients)\n",
    "print(\"\\nInterpretation of Coefficients:\")\n",
    "print(\"For each unit increase in a feature, holding other features constant,\")\n",
    "print(\"the target variable (Price) is expected to change by the value of its coefficient.\")"
   ]
  },
  {
   "cell_type": "markdown",
   "id": "07f77e4d",
   "metadata": {},
   "source": [
    "# 5. Evaluate the model"
   ]
  },
  {
   "cell_type": "code",
   "execution_count": null,
   "id": "3cc3c877",
   "metadata": {},
   "outputs": [],
   "source": [
    "y_pred = model.predict(X_test)\n",
    "\n",
    "r_squared = r2_score(y_test, y_pred)\n",
    "mse = mean_squared_error(y_test, y_pred)\n",
    "rmse = np.sqrt(mse"
   ]
  },
  {
   "cell_type": "code",
   "execution_count": null,
   "id": "22396036",
   "metadata": {},
   "outputs": [],
   "source": [
    "print(\"\\n--- Model Evaluation ---\")\n",
    "print(f\"R-squared (R²): {r_squared:.4f}\")\n",
    "print(f\"Mean Squared Error (MSE): {mse:.2f}\")\n",
    "print(f\"Root Mean Squared Error (RMSE): {rmse:.2f}\")"
   ]
  },
  {
   "cell_type": "code",
   "execution_count": null,
   "id": "a2ad6078",
   "metadata": {},
   "outputs": [],
   "source": [
    "print(\"\\nInterpretation of Evaluation Metrics:\")\n",
    "print(f\"R-squared (R²): {r_squared:.4f} indicates the proportion of the variance in the dependent variable (Price)\")\n",
    "print(\"that is predictable from the independent variables (features). A higher R² value (closer to 1) indicates a better fit.\")\n",
    "print(f\"Mean Squared Error (MSE): {mse:.2f} is the average of the squared differences between the predicted and actual values.\")\n",
    "print(\"It measures the average magnitude of the errors. Lower MSE indicates better accuracy.\")\n",
    "print(f\"Root Mean Squared Error (RMSE): {rmse:.2f} is the square root of MSE and is in the same units as the target variable,\")\n",
    "print(\"making it more interpretable than MSE.\")"
   ]
  }
 ],
 "metadata": {
  "language_info": {
   "name": "python"
  }
 },
 "nbformat": 4,
 "nbformat_minor": 5
}
