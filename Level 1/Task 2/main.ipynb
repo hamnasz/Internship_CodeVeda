{
 "cells": [
  {
   "cell_type": "code",
   "execution_count": null,
   "id": "97e299b3",
   "metadata": {},
   "outputs": [],
   "source": [
    "import numpy as np"
   ]
  },
  {
   "cell_type": "code",
   "execution_count": null,
   "id": "df8964a6",
   "metadata": {},
   "outputs": [],
   "source": [
    "import pandas as pd"
   ]
  },
  {
   "cell_type": "code",
   "execution_count": null,
   "id": "c11f983d",
   "metadata": {},
   "outputs": [],
   "source": [
    "from sklearn.model_selection import train_test_split"
   ]
  },
  {
   "cell_type": "code",
   "execution_count": null,
   "id": "4934c257",
   "metadata": {},
   "outputs": [],
   "source": [
    "from sklearn.linear_model import LinearRegression"
   ]
  },
  {
   "cell_type": "code",
   "execution_count": null,
   "id": "13b8d726",
   "metadata": {},
   "outputs": [],
   "source": [
    "from sklearn.metrics import r2_score, mean_squared_error"
   ]
  },
  {
   "cell_type": "code",
   "execution_count": null,
   "id": "76641e1b",
   "metadata": {},
   "outputs": [],
   "source": [
    "try:\n",
    "    data = pd.read_csv('4) house Prediction Data Set.csv')\n",
    "    print(\"Dataset loaded successfully.\")\n",
    "    print(\"First 5 rows of the dataset:\")\n",
    "    print(data.head())\n",
    "    print(\"\\nDataset Info:\")\n",
    "    data.info()\n",
    "except FileNotFoundError:\n",
    "    print(\"Error: '4) house Prediction Data Set.csv' not found. Please ensure the file is correctly uploaded.\")\n",
    "    exit()"
   ]
  },
  {
   "cell_type": "code",
   "execution_count": null,
   "id": "c1f150c6",
   "metadata": {},
   "outputs": [],
   "source": [
    "target_column = None\n",
    "possible_price_columns = ['Price', 'SalePrice', 'HousePrice', 'price']\n",
    "for col in possible_price_columns:\n",
    "    if col in data.columns:\n",
    "        target_column = col\n",
    "        break"
   ]
  },
  {
   "cell_type": "code",
   "execution_count": null,
   "id": "1b573f82",
   "metadata": {},
   "outputs": [],
   "source": [
    "if target_column is None:\n",
    "    print(\"\\nCould not automatically identify the target 'Price' column.\")\n",
    "    print(\"Please specify the target column from the available columns:\")\n",
    "    print(data.columns.tolist())\n",
    "    # As a fallback, let's try to use the last column as target if 'Price' isn't found\n",
    "    # This is a heuristic and might need manual adjustment by the user.\n",
    "    if data.shape[1] > 1:\n",
    "        target_column = data.columns[-1]\n",
    "        print(f\"Using '{target_column}' as the target column as a fallback.\")\n",
    "    else:\n",
    "        print(\"Dataset has only one column or no suitable target column found. Cannot proceed.\")\n",
    "        exit()"
   ]
  },
  {
   "cell_type": "code",
   "execution_count": null,
   "id": "d206169d",
   "metadata": {},
   "outputs": [],
   "source": []
  }
 ],
 "metadata": {
  "language_info": {
   "name": "python"
  }
 },
 "nbformat": 4,
 "nbformat_minor": 5
}
