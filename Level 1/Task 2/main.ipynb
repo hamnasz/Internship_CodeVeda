{
 "cells": [
  {
   "cell_type": "code",
   "execution_count": 1,
   "id": "97e299b3",
   "metadata": {},
   "outputs": [],
   "source": [
    "import numpy as np"
   ]
  },
  {
   "cell_type": "code",
   "execution_count": 2,
   "id": "df8964a6",
   "metadata": {},
   "outputs": [],
   "source": [
    "import pandas as pd"
   ]
  },
  {
   "cell_type": "code",
   "execution_count": 3,
   "id": "c11f983d",
   "metadata": {},
   "outputs": [],
   "source": [
    "from sklearn.model_selection import train_test_split"
   ]
  },
  {
   "cell_type": "code",
   "execution_count": 4,
   "id": "4934c257",
   "metadata": {},
   "outputs": [],
   "source": [
    "from sklearn.linear_model import LinearRegression"
   ]
  },
  {
   "cell_type": "code",
   "execution_count": 5,
   "id": "13b8d726",
   "metadata": {},
   "outputs": [],
   "source": [
    "from sklearn.metrics import r2_score, mean_squared_error"
   ]
  },
  {
   "cell_type": "markdown",
   "id": "aef03977",
   "metadata": {},
   "source": [
    "# 1. Load the dataset"
   ]
  },
  {
   "cell_type": "code",
   "execution_count": 6,
   "id": "6bb993c9",
   "metadata": {},
   "outputs": [
    {
     "name": "stdout",
     "output_type": "stream",
     "text": [
      "Dataset loaded and Boston Housing column names assigned.\n",
      "\n",
      "First 5 rows of the dataset:\n",
      "      CRIM    ZN  INDUS  CHAS    NOX     RM   AGE     DIS  RAD    TAX  \\\n",
      "0  0.00632  18.0   2.31     0  0.538  6.575  65.2  4.0900    1  296.0   \n",
      "1  0.02731   0.0   7.07     0  0.469  6.421  78.9  4.9671    2  242.0   \n",
      "2  0.02729   0.0   7.07     0  0.469  7.185  61.1  4.9671    2  242.0   \n",
      "3  0.03237   0.0   2.18     0  0.458  6.998  45.8  6.0622    3  222.0   \n",
      "4  0.06905   0.0   2.18     0  0.458  7.147  54.2  6.0622    3  222.0   \n",
      "\n",
      "   PTRATIO       B  LSTAT  MEDV  \n",
      "0     15.3  396.90   4.98  24.0  \n",
      "1     17.8  396.90   9.14  21.6  \n",
      "2     17.8  392.83   4.03  34.7  \n",
      "3     18.7  394.63   2.94  33.4  \n",
      "4     18.7  396.90   5.33  36.2  \n",
      "\n",
      "Dataset Info (initial load):\n",
      "<class 'pandas.core.frame.DataFrame'>\n",
      "RangeIndex: 506 entries, 0 to 505\n",
      "Data columns (total 14 columns):\n",
      " #   Column   Non-Null Count  Dtype  \n",
      "---  ------   --------------  -----  \n",
      " 0   CRIM     506 non-null    float64\n",
      " 1   ZN       506 non-null    float64\n",
      " 2   INDUS    506 non-null    float64\n",
      " 3   CHAS     506 non-null    int64  \n",
      " 4   NOX      506 non-null    float64\n",
      " 5   RM       506 non-null    float64\n",
      " 6   AGE      506 non-null    float64\n",
      " 7   DIS      506 non-null    float64\n",
      " 8   RAD      506 non-null    int64  \n",
      " 9   TAX      506 non-null    float64\n",
      " 10  PTRATIO  506 non-null    float64\n",
      " 11  B        506 non-null    float64\n",
      " 12  LSTAT    506 non-null    float64\n",
      " 13  MEDV     506 non-null    float64\n",
      "dtypes: float64(12), int64(2)\n",
      "memory usage: 55.5 KB\n"
     ]
    },
    {
     "name": "stderr",
     "output_type": "stream",
     "text": [
      "<>:2: SyntaxWarning: invalid escape sequence '\\s'\n",
      "<>:2: SyntaxWarning: invalid escape sequence '\\s'\n",
      "/tmp/ipykernel_17269/541697577.py:2: SyntaxWarning: invalid escape sequence '\\s'\n",
      "  data = pd.read_csv('data.csv', sep='\\s+', header=None)\n"
     ]
    }
   ],
   "source": [
    "try:\n",
    "    data = pd.read_csv('data.csv', sep='\\s+', header=None)\n",
    "\n",
    "    column_names = [\n",
    "        'CRIM', 'ZN', 'INDUS', 'CHAS', 'NOX', 'RM', 'AGE', 'DIS', 'RAD',\n",
    "        'TAX', 'PTRATIO', 'B', 'LSTAT', 'MEDV'\n",
    "    ]\n",
    "\n",
    "    if data.shape[1] == len(column_names):\n",
    "        data.columns = column_names\n",
    "        print(\"Dataset loaded and Boston Housing column names assigned.\")\n",
    "    else:\n",
    "        num_columns = data.shape[1]\n",
    "        generic_column_names = [f'feature_{i}' for i in range(num_columns - 1)] + ['price']\n",
    "        data.columns = generic_column_names\n",
    "        print(f\"Warning: Number of columns ({num_columns}) does not match typical Boston Housing dataset (14).\")\n",
    "        print(\"Assigned generic column names as a fallback.\")\n",
    "\n",
    "    print(\"\\nFirst 5 rows of the dataset:\")\n",
    "    print(data.head())\n",
    "    print(\"\\nDataset Info (initial load):\")\n",
    "    data.info()\n",
    "except FileNotFoundError:\n",
    "    print(\"Error: '4) house Prediction Data Set.csv' not found. Please ensure the file is correctly uploaded.\")\n",
    "    exit()\n",
    "except Exception as e:\n",
    "    print(f\"An error occurred during file loading: {e}\")\n",
    "    print(\"Please check the file format and delimiter. It should be space-separated.\")\n",
    "    exit()"
   ]
  },
  {
   "cell_type": "markdown",
   "id": "c4e3cb42",
   "metadata": {},
   "source": [
    "# 2. Preprocess the data"
   ]
  },
  {
   "cell_type": "code",
   "execution_count": 7,
   "id": "adbc4222",
   "metadata": {},
   "outputs": [],
   "source": [
    "for col in data.columns:\n",
    "    data[col] = pd.to_numeric(data[col], errors='coerce')"
   ]
  },
  {
   "cell_type": "code",
   "execution_count": 8,
   "id": "e790b3e6",
   "metadata": {},
   "outputs": [
    {
     "name": "stdout",
     "output_type": "stream",
     "text": [
      "\n",
      "Dataset Info (after numeric conversion):\n",
      "<class 'pandas.core.frame.DataFrame'>\n",
      "RangeIndex: 506 entries, 0 to 505\n",
      "Data columns (total 14 columns):\n",
      " #   Column   Non-Null Count  Dtype  \n",
      "---  ------   --------------  -----  \n",
      " 0   CRIM     506 non-null    float64\n",
      " 1   ZN       506 non-null    float64\n",
      " 2   INDUS    506 non-null    float64\n",
      " 3   CHAS     506 non-null    int64  \n",
      " 4   NOX      506 non-null    float64\n",
      " 5   RM       506 non-null    float64\n",
      " 6   AGE      506 non-null    float64\n",
      " 7   DIS      506 non-null    float64\n",
      " 8   RAD      506 non-null    int64  \n",
      " 9   TAX      506 non-null    float64\n",
      " 10  PTRATIO  506 non-null    float64\n",
      " 11  B        506 non-null    float64\n",
      " 12  LSTAT    506 non-null    float64\n",
      " 13  MEDV     506 non-null    float64\n",
      "dtypes: float64(12), int64(2)\n",
      "memory usage: 55.5 KB\n"
     ]
    }
   ],
   "source": [
    "print(\"\\nDataset Info (after numeric conversion):\")\n",
    "data.info()"
   ]
  },
  {
   "cell_type": "code",
   "execution_count": 9,
   "id": "2992ed7d",
   "metadata": {},
   "outputs": [],
   "source": [
    "initial_rows = data.shape[0]\n",
    "data.dropna(inplace=True)\n",
    "rows_after_dropna = data.shape[0]"
   ]
  },
  {
   "cell_type": "code",
   "execution_count": 10,
   "id": "fa229877",
   "metadata": {},
   "outputs": [
    {
     "name": "stdout",
     "output_type": "stream",
     "text": [
      "\n",
      "No missing values found after numeric conversion.\n"
     ]
    }
   ],
   "source": [
    "if initial_rows > rows_after_dropna:\n",
    "    print(f\"\\nDropped {initial_rows - rows_after_dropna} rows with missing values.\")\n",
    "else:\n",
    "    print(\"\\nNo missing values found after numeric conversion.\")"
   ]
  },
  {
   "cell_type": "code",
   "execution_count": 11,
   "id": "8e31b20e",
   "metadata": {},
   "outputs": [],
   "source": [
    "if data.empty:\n",
    "    print(\"Error: DataFrame is empty after dropping missing values. Cannot proceed with model training.\")\n",
    "    exit()"
   ]
  },
  {
   "cell_type": "code",
   "execution_count": 12,
   "id": "8e21d408",
   "metadata": {},
   "outputs": [],
   "source": [
    "if 'MEDV' in data.columns:\n",
    "    target_column = 'MEDV'\n",
    "elif 'price' in data.columns:\n",
    "    target_column = 'price'\n",
    "else:\n",
    "    print(\"Error: Could not determine target column. No 'MEDV' or 'price' column found after loading.\")\n",
    "    exit()"
   ]
  },
  {
   "cell_type": "code",
   "execution_count": 13,
   "id": "a095b07b",
   "metadata": {},
   "outputs": [
    {
     "name": "stdout",
     "output_type": "stream",
     "text": [
      "\n",
      "Selected target column: 'MEDV'\n"
     ]
    }
   ],
   "source": [
    "print(f\"\\nSelected target column: '{target_column}'\")"
   ]
  },
  {
   "cell_type": "code",
   "execution_count": 14,
   "id": "4df25246",
   "metadata": {},
   "outputs": [],
   "source": [
    "features = [col for col in data.columns if col != target_column]"
   ]
  },
  {
   "cell_type": "code",
   "execution_count": 15,
   "id": "ac27a8f2",
   "metadata": {},
   "outputs": [],
   "source": [
    "if not features:\n",
    "    print(\"Error: No features found to train the model after preprocessing. Cannot proceed.\")\n",
    "    exit()"
   ]
  },
  {
   "cell_type": "code",
   "execution_count": 16,
   "id": "3e2984ff",
   "metadata": {},
   "outputs": [],
   "source": [
    "X = data[features]\n",
    "y = data[target_column]"
   ]
  },
  {
   "cell_type": "code",
   "execution_count": 17,
   "id": "23944fcf",
   "metadata": {},
   "outputs": [
    {
     "name": "stdout",
     "output_type": "stream",
     "text": [
      "\n",
      "Features (X) shape: (506, 13)\n",
      "Target (y) shape: (506,)\n"
     ]
    }
   ],
   "source": [
    "print(f\"\\nFeatures (X) shape: {X.shape}\")\n",
    "print(f\"Target (y) shape: {y.shape}\")"
   ]
  },
  {
   "cell_type": "code",
   "execution_count": 18,
   "id": "d6c067cb",
   "metadata": {},
   "outputs": [],
   "source": [
    "X_train, X_test, y_train, y_test = train_test_split(X, y, test_size=0.2, random_state=42)"
   ]
  },
  {
   "cell_type": "code",
   "execution_count": 19,
   "id": "9423bfcd",
   "metadata": {},
   "outputs": [
    {
     "name": "stdout",
     "output_type": "stream",
     "text": [
      "\n",
      "Training data size: 404 samples\n",
      "Testing data size: 102 samples\n"
     ]
    }
   ],
   "source": [
    "print(f\"\\nTraining data size: {X_train.shape[0]} samples\")\n",
    "print(f\"Testing data size: {X_test.shape[0]} samples\")"
   ]
  },
  {
   "cell_type": "markdown",
   "id": "7a1ec176",
   "metadata": {},
   "source": [
    "# 3. Train a linear regression model"
   ]
  },
  {
   "cell_type": "code",
   "execution_count": 20,
   "id": "17f3b798",
   "metadata": {},
   "outputs": [
    {
     "name": "stdout",
     "output_type": "stream",
     "text": [
      "\n",
      "Linear Regression model trained successfully.\n"
     ]
    }
   ],
   "source": [
    "model = LinearRegression()\n",
    "model.fit(X_train, y_train)\n",
    "print(\"\\nLinear Regression model trained successfully.\")"
   ]
  },
  {
   "cell_type": "markdown",
   "id": "e021b762",
   "metadata": {},
   "source": [
    "# 4. Interpret the model coefficients"
   ]
  },
  {
   "cell_type": "code",
   "execution_count": 21,
   "id": "f5f08048",
   "metadata": {},
   "outputs": [
    {
     "name": "stdout",
     "output_type": "stream",
     "text": [
      "\n",
      "--- Model Coefficients ---\n",
      "Intercept: 30.25\n"
     ]
    }
   ],
   "source": [
    "print(\"\\n--- Model Coefficients ---\")\n",
    "print(f\"Intercept: {model.intercept_:.2f}\")"
   ]
  },
  {
   "cell_type": "code",
   "execution_count": 22,
   "id": "f257d5dd",
   "metadata": {},
   "outputs": [
    {
     "name": "stdout",
     "output_type": "stream",
     "text": [
      "    Feature  Coefficient\n",
      "0      CRIM    -0.113056\n",
      "1        ZN     0.030110\n",
      "2     INDUS     0.040381\n",
      "3      CHAS     2.784438\n",
      "4       NOX   -17.202633\n",
      "5        RM     4.438835\n",
      "6       AGE    -0.006296\n",
      "7       DIS    -1.447865\n",
      "8       RAD     0.262430\n",
      "9       TAX    -0.010647\n",
      "10  PTRATIO    -0.915456\n",
      "11        B     0.012351\n",
      "12    LSTAT    -0.508571\n",
      "\n",
      "Interpretation of Coefficients:\n",
      "For each unit increase in a feature, holding other features constant,\n",
      "the target variable (Price) is expected to change by the value of its coefficient.\n"
     ]
    }
   ],
   "source": [
    "coefficients = pd.DataFrame({'Feature': X.columns, 'Coefficient': model.coef_})\n",
    "print(coefficients)\n",
    "print(\"\\nInterpretation of Coefficients:\")\n",
    "print(\"For each unit increase in a feature, holding other features constant,\")\n",
    "print(\"the target variable (Price) is expected to change by the value of its coefficient.\")"
   ]
  },
  {
   "cell_type": "markdown",
   "id": "07f77e4d",
   "metadata": {},
   "source": [
    "# 5. Evaluate the model"
   ]
  },
  {
   "cell_type": "code",
   "execution_count": null,
   "id": "169bf599",
   "metadata": {},
   "outputs": [],
   "source": [
    "y_pred = model.predict(X_test)"
   ]
  },
  {
   "cell_type": "code",
   "execution_count": null,
   "id": "3cc3c877",
   "metadata": {},
   "outputs": [
    {
     "ename": "SyntaxError",
     "evalue": "incomplete input (1037571122.py, line 5)",
     "output_type": "error",
     "traceback": [
      "  \u001b[36mCell\u001b[39m\u001b[36m \u001b[39m\u001b[32mIn[23]\u001b[39m\u001b[32m, line 5\u001b[39m\n\u001b[31m    \u001b[39m\u001b[31mrmse = np.sqrt(mse\u001b[39m\n                      ^\n\u001b[31mSyntaxError\u001b[39m\u001b[31m:\u001b[39m incomplete input\n"
     ]
    }
   ],
   "source": [
    "r_squared = r2_score(y_test, y_pred)\n",
    "mse = mean_squared_error(y_test, y_pred)\n",
    "rmse = np.sqrt(mse)"
   ]
  },
  {
   "cell_type": "code",
   "execution_count": null,
   "id": "22396036",
   "metadata": {},
   "outputs": [],
   "source": [
    "print(\"\\n--- Model Evaluation ---\")\n",
    "print(f\"R-squared (R²): {r_squared:.4f}\")\n",
    "print(f\"Mean Squared Error (MSE): {mse:.2f}\")\n",
    "print(f\"Root Mean Squared Error (RMSE): {rmse:.2f}\")"
   ]
  },
  {
   "cell_type": "code",
   "execution_count": null,
   "id": "a2ad6078",
   "metadata": {},
   "outputs": [],
   "source": [
    "print(\"\\nInterpretation of Evaluation Metrics:\")\n",
    "print(f\"R-squared (R²): {r_squared:.4f} indicates the proportion of the variance in the dependent variable ({target_column})\")\n",
    "print(\"that is predictable from the independent variables (features). A higher R² value (closer to 1) indicates a better fit.\")\n",
    "print(f\"Mean Squared Error (MSE): {mse:.2f} is the average of the squared differences between the predicted and actual values.\")\n",
    "print(\"It measures the average magnitude of the errors. Lower MSE indicates better accuracy.\")\n",
    "print(f\"Root Mean Squared Error (RMSE): {rmse:.2f} is the square root of MSE and is in the same units as the target variable,\")\n",
    "print(f\"making it more interpretable than MSE (which is in units of {target_column} squared).\")"
   ]
  }
 ],
 "metadata": {
  "kernelspec": {
   "display_name": "Python 3",
   "language": "python",
   "name": "python3"
  },
  "language_info": {
   "codemirror_mode": {
    "name": "ipython",
    "version": 3
   },
   "file_extension": ".py",
   "mimetype": "text/x-python",
   "name": "python",
   "nbconvert_exporter": "python",
   "pygments_lexer": "ipython3",
   "version": "3.12.1"
  }
 },
 "nbformat": 4,
 "nbformat_minor": 5
}
