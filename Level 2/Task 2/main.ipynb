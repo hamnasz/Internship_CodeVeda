{
 "cells": [
  {
   "cell_type": "code",
   "execution_count": null,
   "id": "f23bb0be",
   "metadata": {},
   "outputs": [],
   "source": [
    "import pandas as pd"
   ]
  },
  {
   "cell_type": "code",
   "execution_count": null,
   "id": "34b22752",
   "metadata": {},
   "outputs": [],
   "source": [
    "from sklearn.model_selection import train_test_split"
   ]
  },
  {
   "cell_type": "code",
   "execution_count": null,
   "id": "2448dd6a",
   "metadata": {},
   "outputs": [],
   "source": [
    "from sklearn.tree import DecisionTreeClassifier, plot_tree"
   ]
  },
  {
   "cell_type": "code",
   "execution_count": null,
   "id": "1b9f546f",
   "metadata": {},
   "outputs": [],
   "source": [
    "from sklearn.preprocessing import LabelEncoder"
   ]
  },
  {
   "cell_type": "code",
   "execution_count": null,
   "id": "af44bf2b",
   "metadata": {},
   "outputs": [],
   "source": [
    "from sklearn.metrics import accuracy_score, f1_score, classification_report, confusion_matrix"
   ]
  },
  {
   "cell_type": "code",
   "execution_count": null,
   "id": "2e1fb56d",
   "metadata": {},
   "outputs": [],
   "source": [
    "import matplotlib.pyplot as plt"
   ]
  },
  {
   "cell_type": "code",
   "execution_count": null,
   "id": "97b738b0",
   "metadata": {},
   "outputs": [],
   "source": [
    "import seaborn as sns"
   ]
  },
  {
   "cell_type": "code",
   "execution_count": null,
   "id": "f0765876",
   "metadata": {},
   "outputs": [],
   "source": [
    "try:\n",
    "    df = pd.read_csv('data.csv')\n",
    "    print(\"Dataset loaded successfully.\")\n",
    "except FileNotFoundError:\n",
    "    print(\"Error: 'data.csv' not found. Please ensure the file is in the correct directory.\")\n",
    "    exit()\n"
   ]
  },
  {
   "cell_type": "code",
   "execution_count": null,
   "id": "37e719f1",
   "metadata": {},
   "outputs": [],
   "source": [
    "print(\"\\n--- Initial Data Inspection ---\")\n",
    "print(\"First 5 rows of the dataset:\")\n",
    "print(df.head())\n",
    "print(\"\\nDataset Info:\")\n",
    "df.info()\n",
    "print(\"\\nValue counts for 'species':\")\n",
    "print(df['species'].value_counts())"
   ]
  },
  {
   "cell_type": "code",
   "execution_count": null,
   "id": "fb4e691e",
   "metadata": {},
   "outputs": [],
   "source": [
    "X = df.drop('species', axis=1)\n",
    "y = df['species']"
   ]
  },
  {
   "cell_type": "code",
   "execution_count": null,
   "id": "10352e99",
   "metadata": {},
   "outputs": [],
   "source": [
    "le = LabelEncoder()\n",
    "y_encoded = le.fit_transform(y)\n",
    "target_names = le.classes_"
   ]
  },
  {
   "cell_type": "code",
   "execution_count": null,
   "id": "e86a2f32",
   "metadata": {},
   "outputs": [],
   "source": [
    "print(f\"\\nOriginal species labels: {target_names}\")\n",
    "print(f\"Encoded species labels (first 5): {y_encoded[:5]}\")"
   ]
  },
  {
   "cell_type": "code",
   "execution_count": null,
   "id": "9862205e",
   "metadata": {},
   "outputs": [],
   "source": [
    "X_train, X_test, y_train, y_test = train_test_split(X, y_encoded, test_size=0.3, random_state=42, stratify=y_encoded)"
   ]
  },
  {
   "cell_type": "code",
   "execution_count": null,
   "id": "c6d614dd",
   "metadata": {},
   "outputs": [],
   "source": [
    "print(f\"\\nTraining set shape: {X_train.shape}\")\n",
    "print(f\"Testing set shape: {X_test.shape}\")"
   ]
  },
  {
   "cell_type": "code",
   "execution_count": null,
   "id": "7e849ec1",
   "metadata": {},
   "outputs": [],
   "source": [
    "print(\"\\n--- Training Initial (Unpruned) Decision Tree ---\")\n",
    "dt_classifier_unpruned = DecisionTreeClassifier(random_state=42)\n",
    "dt_classifier_unpruned.fit(X_train, y_train)"
   ]
  },
  {
   "cell_type": "code",
   "execution_count": null,
   "id": "b11f4935",
   "metadata": {},
   "outputs": [],
   "source": [
    "print(\"Unpruned Decision Tree model trained successfully.\")"
   ]
  },
  {
   "cell_type": "code",
   "execution_count": null,
   "id": "db3eecb1",
   "metadata": {},
   "outputs": [],
   "source": [
    "y_pred_unpruned = dt_classifier_unpruned.predict(X_test)\n",
    "accuracy_unpruned = accuracy_score(y_test, y_pred_unpruned)\n",
    "f1_unpruned = f1_score(y_test, y_pred_unpruned, average='weighted') # Use 'weighted' for multi-class F1\n",
    "conf_matrix_unpruned = confusion_matrix(y_test, y_pred_unpruned)\n",
    "class_report_unpruned = classification_report(y_test, y_pred_unpruned, target_names=target_names)"
   ]
  },
  {
   "cell_type": "code",
   "execution_count": null,
   "id": "13849166",
   "metadata": {},
   "outputs": [],
   "source": [
    "print(f\"\\nUnpruned Model Accuracy: {accuracy_unpruned:.4f}\")\n",
    "print(f\"Unpruned Model F1-Score (weighted): {f1_unpruned:.4f}\")\n",
    "print(\"\\nUnpruned Model Confusion Matrix:\\n\", conf_matrix_unpruned)\n",
    "print(\"\\nUnpruned Model Classification Report:\\n\", class_report_unpruned)"
   ]
  },
  {
   "cell_type": "code",
   "execution_count": null,
   "id": "2dc5a5d2",
   "metadata": {},
   "outputs": [],
   "source": [
    "print(\"\\n--- Visualizing Unpruned Tree ---\")\n",
    "plt.figure(figsize=(20, 15))\n",
    "plot_tree(dt_classifier_unpruned,\n",
    "          feature_names=X.columns.tolist(),\n",
    "          class_names=target_names,\n",
    "          filled=True,\n",
    "          rounded=True,\n",
    "          fontsize=10)\n",
    "plt.title(\"Unpruned Decision Tree for Iris Classification\", fontsize=16)\n",
    "plt.show()\n",
    "print(\"Unpruned tree visualization displayed.\")"
   ]
  },
  {
   "cell_type": "code",
   "execution_count": null,
   "id": "8c3e4dcf",
   "metadata": {},
   "outputs": [],
   "source": [
    "print(\"\\n--- Pruning the Decision Tree ---\")\n",
    "print(\"\\nPruning with max_depth=3:\")\n",
    "dt_classifier_pruned_depth = DecisionTreeClassifier(max_depth=3, random_state=42)\n",
    "dt_classifier_pruned_depth.fit(X_train, y_train)"
   ]
  },
  {
   "cell_type": "code",
   "execution_count": null,
   "id": "43ddb687",
   "metadata": {},
   "outputs": [],
   "source": [
    "y_pred_pruned_depth = dt_classifier_pruned_depth.predict(X_test)\n",
    "accuracy_pruned_depth = accuracy_score(y_test, y_pred_pruned_depth)\n",
    "f1_pruned_depth = f1_score(y_test, y_pred_pruned_depth, average='weighted')"
   ]
  },
  {
   "cell_type": "code",
   "execution_count": null,
   "id": "fd0a62c4",
   "metadata": {},
   "outputs": [],
   "source": [
    "print(f\"Pruned (max_depth=3) Model Accuracy: {accuracy_pruned_depth:.4f}\")\n",
    "print(f\"Pruned (max_depth=3) Model F1-Score (weighted): {f1_pruned_depth:.4f}\")\n",
    "print(\"\\nPruned (max_depth=3) Model Classification Report:\\n\",\n",
    "      classification_report(y_test, y_pred_pruned_depth, target_names=target_names))"
   ]
  },
  {
   "cell_type": "code",
   "execution_count": null,
   "id": "a4c532b7",
   "metadata": {},
   "outputs": [],
   "source": [
    "plt.figure(figsize=(15, 10))\n",
    "plot_tree(dt_classifier_pruned_depth,\n",
    "          feature_names=X.columns.tolist(),\n",
    "          class_names=target_names,\n",
    "          filled=True,\n",
    "          rounded=True,\n",
    "          fontsize=10)\n",
    "plt.title(\"Decision Tree Pruned with max_depth=3\", fontsize=16)\n",
    "plt.show()\n",
    "print(\"Depth-pruned tree visualization displayed.\")"
   ]
  },
  {
   "cell_type": "code",
   "execution_count": null,
   "id": "581d9cc3",
   "metadata": {},
   "outputs": [],
   "source": [
    "print(\"\\nPruning with ccp_alpha (finding optimal alpha):\")"
   ]
  },
  {
   "cell_type": "code",
   "execution_count": null,
   "id": "d8c2a265",
   "metadata": {},
   "outputs": [],
   "source": [
    "path = dt_classifier_unpruned.cost_complexity_pruning_path(X_train, y_train)\n",
    "ccp_alphas, impurities = path.ccp_alphas, path.impurities"
   ]
  },
  {
   "cell_type": "code",
   "execution_count": null,
   "id": "d41b8b87",
   "metadata": {},
   "outputs": [],
   "source": [
    "clfs = []\n",
    "for ccp_alpha in ccp_alphas:\n",
    "    clf = DecisionTreeClassifier(random_state=42, ccp_alpha=ccp_alpha)\n",
    "    clf.fit(X_train, y_train)\n",
    "    clfs.append(clf)\n"
   ]
  }
 ],
 "metadata": {
  "language_info": {
   "name": "python"
  }
 },
 "nbformat": 4,
 "nbformat_minor": 5
}
