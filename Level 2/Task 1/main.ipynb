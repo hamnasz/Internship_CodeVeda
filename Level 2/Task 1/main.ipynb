{
 "cells": [
  {
   "cell_type": "code",
   "execution_count": null,
   "id": "7f948241",
   "metadata": {},
   "outputs": [],
   "source": [
    "import pandas as pd"
   ]
  },
  {
   "cell_type": "code",
   "execution_count": null,
   "id": "434aefd6",
   "metadata": {},
   "outputs": [],
   "source": [
    "import numpy as np"
   ]
  },
  {
   "cell_type": "code",
   "execution_count": null,
   "id": "688fc591",
   "metadata": {},
   "outputs": [],
   "source": [
    "from sklearn.model_selection import train_test_split"
   ]
  },
  {
   "cell_type": "code",
   "execution_count": null,
   "id": "4c5f9d57",
   "metadata": {},
   "outputs": [],
   "source": [
    "from sklearn.preprocessing import StandardScaler, LabelEncoder"
   ]
  },
  {
   "cell_type": "code",
   "execution_count": null,
   "id": "e1521a0b",
   "metadata": {},
   "outputs": [],
   "source": [
    "from sklearn.linear_model import LogisticRegression"
   ]
  },
  {
   "cell_type": "code",
   "execution_count": null,
   "id": "ce6d7ac0",
   "metadata": {},
   "outputs": [],
   "source": [
    "from sklearn.metrics import accuracy_score, confusion_matrix, classification_report, roc_curve, roc_auc_score, RocCurveDisplay"
   ]
  },
  {
   "cell_type": "code",
   "execution_count": null,
   "id": "addc277c",
   "metadata": {},
   "outputs": [],
   "source": [
    "import matplotlib.pyplot as plt"
   ]
  },
  {
   "cell_type": "code",
   "execution_count": null,
   "id": "4f168cdb",
   "metadata": {},
   "outputs": [],
   "source": [
    "import seaborn as sns"
   ]
  },
  {
   "cell_type": "code",
   "execution_count": null,
   "id": "8a36c71d",
   "metadata": {},
   "outputs": [],
   "source": [
    "try:\n",
    "    df = pd.read_csv('data.csv')\n",
    "    print(\"Dataset loaded successfully.\")\n",
    "except FileNotFoundError:\n",
    "    print(\"Error: 'data.csv' not found. Please ensure the file is in the correct directory.\")\n",
    "    exit()"
   ]
  },
  {
   "cell_type": "code",
   "execution_count": null,
   "id": "9aa61361",
   "metadata": {},
   "outputs": [],
   "source": [
    "print(\"\\n--- Initial Data Inspection ---\")\n",
    "print(\"First 5 rows of the dataset:\")\n",
    "print(df.head())\n",
    "print(\"\\nDataset Info:\")\n",
    "df.info()\n",
    "print(\"\\nMissing values per column:\")\n",
    "print(df.isnull().sum())\n",
    "print(\"\\nValue counts for 'Churn':\")\n",
    "print(df['Churn'].value_counts())"
   ]
  },
  {
   "cell_type": "code",
   "execution_count": null,
   "id": "94ceb99d",
   "metadata": {},
   "outputs": [],
   "source": [
    "df['Churn'] = df['Churn'].astype(int)"
   ]
  },
  {
   "cell_type": "code",
   "execution_count": null,
   "id": "542c54f5",
   "metadata": {},
   "outputs": [],
   "source": [
    "if 'Phone' in df.columns:\n",
    "    df = df.drop('Phone', axis=1)\n",
    "    print(\"\\n'Phone' column dropped.\")"
   ]
  },
  {
   "cell_type": "code",
   "execution_count": null,
   "id": "767e85b2",
   "metadata": {},
   "outputs": [],
   "source": [
    "categorical_cols = df.select_dtypes(include='object').columns\n",
    "numerical_cols = df.select_dtypes(include=['int64', 'float64']).columns.drop('Churn', errors='ignore')"
   ]
  },
  {
   "cell_type": "code",
   "execution_count": null,
   "id": "dd935b83",
   "metadata": {},
   "outputs": [],
   "source": [
    "print(f\"\\nCategorical columns identified: {list(categorical_cols)}\")\n",
    "print(f\"Numerical columns identified: {list(numerical_cols)}\")"
   ]
  },
  {
   "cell_type": "code",
   "execution_count": null,
   "id": "2e0863ca",
   "metadata": {},
   "outputs": [],
   "source": [
    "df_encoded = pd.get_dummies(df, columns=categorical_cols, drop_first=True)y"
   ]
  },
  {
   "cell_type": "code",
   "execution_count": null,
   "id": "d473bf9a",
   "metadata": {},
   "outputs": [],
   "source": [
    "print(\"\\nDataset after One-Hot Encoding (first 5 rows):\")\n",
    "print(df_encoded.head())\n",
    "print(f\"Shape after encoding: {df_encoded.shape}\")"
   ]
  },
  {
   "cell_type": "code",
   "execution_count": null,
   "id": "e0920812",
   "metadata": {},
   "outputs": [],
   "source": [
    "X = df_encoded.drop('Churn', axis=1)\n",
    "y = df_encoded['Churn']"
   ]
  },
  {
   "cell_type": "code",
   "execution_count": null,
   "id": "f487ae4e",
   "metadata": {},
   "outputs": [],
   "source": [
    "X_train, X_test, y_train, y_test = train_test_split(X, y, test_size=0.3, random_state=42, stratify=y)"
   ]
  },
  {
   "cell_type": "code",
   "execution_count": null,
   "id": "baf29f6d",
   "metadata": {},
   "outputs": [],
   "source": [
    "print(f\"\\nTraining set shape: {X_train.shape}\")\n",
    "print(f\"Testing set shape: {X_test.shape}\")"
   ]
  },
  {
   "cell_type": "code",
   "execution_count": null,
   "id": "95ae3c01",
   "metadata": {},
   "outputs": [],
   "source": [
    "scaler = StandardScaler()\n",
    "X_train_scaled = scaler.fit_transform(X_train)\n",
    "X_test_scaled = scaler.transform(X_test)"
   ]
  },
  {
   "cell_type": "code",
   "execution_count": null,
   "id": "bbced99f",
   "metadata": {},
   "outputs": [],
   "source": [
    "X_train_scaled_df = pd.DataFrame(X_train_scaled, columns=X_train.columns, index=X_train.index)\n",
    "X_test_scaled_df = pd.DataFrame(X_test_scaled, columns=X_test.columns, index=X_test.index)"
   ]
  },
  {
   "cell_type": "code",
   "execution_count": null,
   "id": "f44ff7d0",
   "metadata": {},
   "outputs": [],
   "source": [
    "print(\"\\nFeatures scaled successfully.\")"
   ]
  },
  {
   "cell_type": "code",
   "execution_count": null,
   "id": "18b61557",
   "metadata": {},
   "outputs": [],
   "source": [
    "print(\"\\n--- Training Logistic Regression Model ---\")\n",
    "log_reg_model = LogisticRegression(random_state=42, solver='liblinear')"
   ]
  },
  {
   "cell_type": "code",
   "execution_count": null,
   "id": "1fd1fe00",
   "metadata": {},
   "outputs": [],
   "source": [
    "log_reg_model.fit(X_train_scaled_df, y_train)"
   ]
  },
  {
   "cell_type": "code",
   "execution_count": null,
   "id": "01f84d46",
   "metadata": {},
   "outputs": [],
   "source": [
    "print(\"Logistic Regression model trained successfully.\")"
   ]
  },
  {
   "cell_type": "code",
   "execution_count": null,
   "id": "8147761c",
   "metadata": {},
   "outputs": [],
   "source": [
    "print(\"\\n--- Model Interpretation ---\")\n",
    "coefficients = log_reg_model.coef_[0]\n",
    "feature_names = X_train_scaled_df.columns\n",
    "intercept = log_reg_model.intercept_[0]"
   ]
  },
  {
   "cell_type": "code",
   "execution_count": null,
   "id": "d2f74f40",
   "metadata": {},
   "outputs": [],
   "source": [
    "print(f\"Model Intercept (bias): {intercept:.4f}\")\n",
    "print(\"\\nModel Coefficients (Log-Odds):\")\n",
    "for feature, coef in zip(feature_names, coefficients):\n",
    "    print(f\"  {feature}: {coef:.4f}\")"
   ]
  },
  {
   "cell_type": "code",
   "execution_count": null,
   "id": "99bea1e5",
   "metadata": {},
   "outputs": [],
   "source": [
    "odds_ratios = np.exp(coefficients)"
   ]
  },
  {
   "cell_type": "code",
   "execution_count": null,
   "id": "71fe9d20",
   "metadata": {},
   "outputs": [],
   "source": [
    "print(\"\\nOdds Ratios:\")\n",
    "for feature, odds_ratio in zip(feature_names, odds_ratios):\n",
    "    print(f\"  {feature}: {odds_ratio:.4f}\")"
   ]
  },
  {
   "cell_type": "code",
   "execution_count": null,
   "id": "27e5b7f8",
   "metadata": {},
   "outputs": [],
   "source": [
    "print(\"\\nInterpretation Notes:\")\n",
    "print(\"  - An odds ratio > 1 means the odds of churn increase with that feature.\")\n",
    "print(\"  - An odds ratio < 1 means the odds of churn decrease with that feature.\")\n",
    "print(\"  - An odds ratio close to 1 means the feature has little effect on churn odds.\")"
   ]
  },
  {
   "cell_type": "code",
   "execution_count": null,
   "id": "bb77f9c9",
   "metadata": {},
   "outputs": [],
   "source": [
    "print(\"\\n--- Model Evaluation ---\")\n",
    "y_pred_proba = log_reg_model.predict_proba(X_test_scaled_df)[:, 1]"
   ]
  },
  {
   "cell_type": "code",
   "execution_count": null,
   "id": "0cf70f07",
   "metadata": {},
   "outputs": [],
   "source": [
    "y_pred = log_reg_model.predict(X_test_scaled_df)"
   ]
  },
  {
   "cell_type": "code",
   "execution_count": null,
   "id": "e62cb716",
   "metadata": {},
   "outputs": [],
   "source": [
    "accuracy = accuracy_score(y_test, y_pred)\n",
    "print(f\"\\nAccuracy: {accuracy:.4f}\")"
   ]
  },
  {
   "cell_type": "code",
   "execution_count": null,
   "id": "dfa61806",
   "metadata": {},
   "outputs": [],
   "source": [
    "conf_matrix = confusion_matrix(y_test, y_pred)\n",
    "print(\"\\nConfusion Matrix:\")\n",
    "print(conf_matrix)"
   ]
  },
  {
   "cell_type": "code",
   "execution_count": null,
   "id": "4465ec5c",
   "metadata": {},
   "outputs": [],
   "source": [
    "plt.figure(figsize=(7, 6))\n",
    "sns.heatmap(conf_matrix, annot=True, fmt='d', cmap='Blues',\n",
    "            xticklabels=['Not Churn (0)', 'Churn (1)'],\n",
    "            yticklabels=['Not Churn (0)', 'Churn (1)'])\n",
    "plt.title('Confusion Matrix')\n",
    "plt.xlabel('Predicted Label')\n",
    "plt.ylabel('True Label')\n",
    "plt.show()"
   ]
  },
  {
   "cell_type": "code",
   "execution_count": null,
   "id": "11cbc3b0",
   "metadata": {},
   "outputs": [],
   "source": [
    "class_report = classification_report(y_test, y_pred, target_names=['Not Churn (0)', 'Churn (1)'])\n",
    "print(\"\\nClassification Report:\")\n",
    "print(class_report)"
   ]
  },
  {
   "cell_type": "code",
   "execution_count": null,
   "id": "4dc67da7",
   "metadata": {},
   "outputs": [],
   "source": [
    "fpr, tpr, thresholds = roc_curve(y_test, y_pred_proba)\n",
    "roc_auc = roc_auc_score(y_test, y_pred_proba)"
   ]
  },
  {
   "cell_type": "code",
   "execution_count": null,
   "id": "5cc62313",
   "metadata": {},
   "outputs": [],
   "source": [
    "print(f\"\\nROC AUC Score: {roc_auc:.4f}\")"
   ]
  },
  {
   "cell_type": "code",
   "execution_count": null,
   "id": "60a64f4c",
   "metadata": {},
   "outputs": [],
   "source": [
    "plt.figure(figsize=(8, 7))\n",
    "RocCurveDisplay.from_estimator(log_reg_model, X_test_scaled_df, y_test)\n",
    "plt.plot([0, 1], [0, 1], 'k--', label='Random Classifier')\n",
    "plt.title('ROC Curve')\n",
    "plt.xlabel('False Positive Rate')\n",
    "plt.ylabel('True Positive Rate')\n",
    "plt.legend()\n",
    "plt.grid(True)\n",
    "plt.show()"
   ]
  },
  {
   "cell_type": "code",
   "execution_count": null,
   "id": "7c88dbb0",
   "metadata": {},
   "outputs": [],
   "source": [
    "print(\"\\n--- Conclusion ---\")\n",
    "print(\"The Logistic Regression model has been trained and evaluated.\")\n",
    "print(\"The interpretation of coefficients and odds ratios provides insights into feature importance.\")\n",
    "print(\"The evaluation metrics (accuracy, precision, recall, confusion matrix, and ROC-AUC) give a comprehensive understanding of the model's performance on unseen data.\")\n",
    "print(\"A higher ROC AUC score indicates better discrimination between the two classes.\")"
   ]
  }
 ],
 "metadata": {
  "language_info": {
   "name": "python"
  }
 },
 "nbformat": 4,
 "nbformat_minor": 5
}
