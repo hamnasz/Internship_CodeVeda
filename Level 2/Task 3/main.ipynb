{
 "cells": [
  {
   "cell_type": "code",
   "execution_count": null,
   "id": "1ce003c2",
   "metadata": {},
   "outputs": [],
   "source": [
    "import pandas as pd"
   ]
  },
  {
   "cell_type": "code",
   "execution_count": null,
   "id": "6d5af4b4",
   "metadata": {},
   "outputs": [],
   "source": [
    "import seaborn as sns"
   ]
  },
  {
   "cell_type": "code",
   "execution_count": null,
   "id": "3934633b",
   "metadata": {},
   "outputs": [],
   "source": [
    "import matplotlib.pyplot as plt"
   ]
  },
  {
   "cell_type": "code",
   "execution_count": null,
   "id": "4f9475e2",
   "metadata": {},
   "outputs": [],
   "source": [
    "from sklearn.cluster import KMeans"
   ]
  },
  {
   "cell_type": "code",
   "execution_count": null,
   "id": "aed642ff",
   "metadata": {},
   "outputs": [],
   "source": [
    "from sklearn.decomposition import PCA"
   ]
  },
  {
   "cell_type": "code",
   "execution_count": null,
   "id": "e1935c15",
   "metadata": {},
   "outputs": [],
   "source": [
    "from sklearn.preprocessing import StandardScaler"
   ]
  },
  {
   "cell_type": "markdown",
   "id": "5b873091",
   "metadata": {},
   "source": [
    "# Step 1: Load the dataset"
   ]
  },
  {
   "cell_type": "code",
   "execution_count": null,
   "id": "e70fc089",
   "metadata": {},
   "outputs": [],
   "source": [
    "df = pd.read_csv('data.csv')"
   ]
  },
  {
   "cell_type": "code",
   "execution_count": null,
   "id": "aa63e754",
   "metadata": {},
   "outputs": [],
   "source": [
    "print(\"First 5 rows of the dataset:\")"
   ]
  },
  {
   "cell_type": "code",
   "execution_count": null,
   "id": "25884f17",
   "metadata": {},
   "outputs": [],
   "source": [
    "print(df.head())"
   ]
  },
  {
   "cell_type": "code",
   "execution_count": null,
   "id": "5fa2a073",
   "metadata": {},
   "outputs": [],
   "source": [
    "print(\"\\nInformation about the dataset:\")"
   ]
  },
  {
   "cell_type": "code",
   "execution_count": null,
   "id": "1a1989d6",
   "metadata": {},
   "outputs": [],
   "source": [
    "print(df.info())"
   ]
  },
  {
   "cell_type": "markdown",
   "id": "a0fb4fcb",
   "metadata": {},
   "source": [
    "# Step 2: Preprocess the data (scaling)"
   ]
  },
  {
   "cell_type": "code",
   "execution_count": null,
   "id": "5f3dcac1",
   "metadata": {},
   "outputs": [],
   "source": [
    "numerical_cols = ['Retweets', 'Likes', 'Year', 'Month', 'Day', 'Hour']"
   ]
  },
  {
   "cell_type": "code",
   "execution_count": null,
   "id": "766157dd",
   "metadata": {},
   "outputs": [
    {
     "ename": "NameError",
     "evalue": "name 'missing_cols' is not defined",
     "output_type": "error",
     "traceback": [
      "\u001b[31m---------------------------------------------------------------------------\u001b[39m",
      "\u001b[31mNameError\u001b[39m                                 Traceback (most recent call last)",
      "\u001b[36mCell\u001b[39m\u001b[36m \u001b[39m\u001b[32mIn[1]\u001b[39m\u001b[32m, line 1\u001b[39m\n\u001b[32m----> \u001b[39m\u001b[32m1\u001b[39m \u001b[38;5;28;01mif\u001b[39;00m \u001b[43mmissing_cols\u001b[49m:\n\u001b[32m      2\u001b[39m     \u001b[38;5;28mprint\u001b[39m(\u001b[33mf\u001b[39m\u001b[33m\"\u001b[39m\u001b[33mWarning: The following numerical columns were not found in the dataset: \u001b[39m\u001b[38;5;132;01m{\u001b[39;00mmissing_cols\u001b[38;5;132;01m}\u001b[39;00m\u001b[33m\"\u001b[39m)\n\u001b[32m      3\u001b[39m     \u001b[38;5;66;03m# Filter to only include columns that are actually in the DataFrame\u001b[39;00m\n",
      "\u001b[31mNameError\u001b[39m: name 'missing_cols' is not defined"
     ]
    }
   ],
   "source": [
    "missing_cols = [col for col in numerical_cols if col not in df.columns]\n",
    "if missing_cols:\n",
    "    print(f\"Warning: The following numerical columns were not found in the dataset: {missing_cols}\")\n",
    "    # Filter to only include columns that are actually in the DataFrame\n",
    "    numerical_cols = [col for col in numerical_cols if col in df.columns]\n"
   ]
  },
  {
   "cell_type": "code",
   "execution_count": null,
   "id": "00b3ccc8",
   "metadata": {},
   "outputs": [],
   "source": [
    "if not numerical_cols:\n",
    "    raise ValueError(\"No suitable numerical columns found for clustering after initial selection. Please check the dataset columns.\")"
   ]
  },
  {
   "cell_type": "code",
   "execution_count": null,
   "id": "be14f32c",
   "metadata": {},
   "outputs": [],
   "source": [
    "X = df[numerical_cols]"
   ]
  },
  {
   "cell_type": "code",
   "execution_count": null,
   "id": "b7ea2fd0",
   "metadata": {},
   "outputs": [],
   "source": [
    "scaler = StandardScaler()"
   ]
  },
  {
   "cell_type": "code",
   "execution_count": null,
   "id": "ee58902e",
   "metadata": {},
   "outputs": [],
   "source": [
    "X_scaled = scaler.fit_transform(X)"
   ]
  },
  {
   "cell_type": "code",
   "execution_count": null,
   "id": "5630c573",
   "metadata": {},
   "outputs": [],
   "source": [
    "print(\"\\nData scaled successfully.\")"
   ]
  },
  {
   "cell_type": "markdown",
   "id": "b780f392",
   "metadata": {},
   "source": [
    "# Step 3: Apply K-Means clustering and determine optimal K (Elbow Method)"
   ]
  },
  {
   "cell_type": "code",
   "execution_count": null,
   "id": "f4d02184",
   "metadata": {},
   "outputs": [],
   "source": [
    "inertia = []\n",
    "range_k = range(1, 11)"
   ]
  },
  {
   "cell_type": "code",
   "execution_count": null,
   "id": "2c53b930",
   "metadata": {},
   "outputs": [],
   "source": [
    "for k in range_k:\n",
    "    # Initialize KMeans with n_init to suppress warning\n",
    "    kmeans = KMeans(n_clusters=k, random_state=42, n_init=10)\n",
    "    kmeans.fit(X_scaled)\n",
    "    inertia.append(kmeans.inertia_)"
   ]
  },
  {
   "cell_type": "code",
   "execution_count": null,
   "id": "bd8ca090",
   "metadata": {},
   "outputs": [],
   "source": [
    "plt.figure(figsize=(10, 6))\n",
    "plt.plot(range_k, inertia, marker='o', linestyle='--')\n",
    "plt.title('Elbow Method for Optimal K')\n",
    "plt.xlabel('Number of Clusters (K)')\n",
    "plt.ylabel('Inertia (Within-Cluster Sum of Squares)')\n",
    "plt.grid(True)\n",
    "plt.show()\n",
    "print(\"\\nElbow Method plot displayed. Look for the 'elbow' point to determine optimal K.\")"
   ]
  },
  {
   "cell_type": "markdown",
   "id": "744a417d",
   "metadata": {},
   "source": [
    "# Step 4: Apply K-Means clustering with the chosen optimal K"
   ]
  },
  {
   "cell_type": "code",
   "execution_count": null,
   "id": "09b5cd97",
   "metadata": {},
   "outputs": [],
   "source": [
    "optimal_k = 3\n",
    "kmeans = KMeans(n_clusters=optimal_k, random_state=42, n_init=10)\n",
    "clusters = kmeans.fit_predict(X_scaled)"
   ]
  },
  {
   "cell_type": "code",
   "execution_count": null,
   "id": "cfd818dd",
   "metadata": {},
   "outputs": [],
   "source": [
    "df['Cluster'] = clusters\n",
    "print(f\"\\nK-Means clustering applied with K={optimal_k}. Cluster assignments added to DataFrame.\")"
   ]
  },
  {
   "cell_type": "markdown",
   "id": "5f195f9c",
   "metadata": {},
   "source": [
    "# Step 5: Visualize clusters using 2D scatter plots"
   ]
  },
  {
   "cell_type": "code",
   "execution_count": null,
   "id": "18c3e770",
   "metadata": {},
   "outputs": [],
   "source": [
    "pca = PCA(n_components=2)\n",
    "X_pca = pca.fit_transform(X_scaled)"
   ]
  },
  {
   "cell_type": "code",
   "execution_count": null,
   "id": "fbfadce8",
   "metadata": {},
   "outputs": [],
   "source": [
    "pca_df = pd.DataFrame(data=X_pca, columns=['PC1', 'PC2'])\n",
    "pca_df['Cluster'] = clusters"
   ]
  },
  {
   "cell_type": "code",
   "execution_count": null,
   "id": "d73a8eec",
   "metadata": {},
   "outputs": [],
   "source": [
    "if 'Sentiment' in df.columns:\n",
    "    pca_df['Sentiment'] = df['Sentiment']"
   ]
  },
  {
   "cell_type": "code",
   "execution_count": null,
   "id": "802e2b01",
   "metadata": {},
   "outputs": [],
   "source": [
    "plt.figure(figsize=(10, 8))\n",
    "sns.scatterplot(\n",
    "    x='PC1',\n",
    "    y='PC2',\n",
    "    hue='Cluster',\n",
    "    palette='viridis', # A color palette for clusters\n",
    "    data=pca_df,\n",
    "    legend='full',\n",
    "    alpha=0.7\n",
    ")"
   ]
  },
  {
   "cell_type": "code",
   "execution_count": null,
   "id": "7c59d988",
   "metadata": {},
   "outputs": [],
   "source": [
    "plt.title(f'K-Means Clusters (PCA-Reduced Data) with K={optimal_k}')\n",
    "plt.xlabel('Principal Component 1 (PC1)')\n",
    "plt.ylabel('Principal Component 2 (PC2)')\n",
    "plt.grid(True)\n",
    "plt.show()\n",
    "print(\"\\n2D Scatter plot of clusters displayed.\")"
   ]
  },
  {
   "cell_type": "markdown",
   "id": "695deb03",
   "metadata": {},
   "source": [
    "# Step 6: Interpret the clustering results"
   ]
  },
  {
   "cell_type": "code",
   "execution_count": null,
   "id": "b37184c8",
   "metadata": {},
   "outputs": [],
   "source": [
    "cluster_analysis = df.groupby('Cluster')[numerical_cols].mean()\n",
    "print(\"\\nMean values of numerical features per cluster:\")\n",
    "print(cluster_analysis)"
   ]
  },
  {
   "cell_type": "code",
   "execution_count": null,
   "id": "b3f73fd4",
   "metadata": {},
   "outputs": [],
   "source": [
    "if 'Sentiment' in df.columns:\n",
    "    sentiment_distribution = df.groupby('Cluster')['Sentiment'].value_counts(normalize=True).unstack(fill_value=0)\n",
    "    print(\"\\nSentiment distribution (normalized) within each cluster:\")\n",
    "    print(sentiment_distribution)"
   ]
  },
  {
   "cell_type": "code",
   "execution_count": null,
   "id": "44f77b90",
   "metadata": {},
   "outputs": [],
   "source": [
    "print(\"\\nClustering analysis complete. Review the mean feature values and sentiment distribution for interpretation.\")"
   ]
  }
 ],
 "metadata": {
  "kernelspec": {
   "display_name": "Python 3",
   "language": "python",
   "name": "python3"
  },
  "language_info": {
   "codemirror_mode": {
    "name": "ipython",
    "version": 3
   },
   "file_extension": ".py",
   "mimetype": "text/x-python",
   "name": "python",
   "nbconvert_exporter": "python",
   "pygments_lexer": "ipython3",
   "version": "3.12.1"
  }
 },
 "nbformat": 4,
 "nbformat_minor": 5
}
